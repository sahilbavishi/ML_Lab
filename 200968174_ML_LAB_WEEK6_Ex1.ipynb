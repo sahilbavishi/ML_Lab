{
  "cells": [
    {
      "cell_type": "code",
      "execution_count": 27,
      "metadata": {
        "id": "AigDRJctzBr9"
      },
      "outputs": [],
      "source": [
        "import pandas as pd\n",
        "import numpy as np\n",
        "\n",
        "import seaborn as sns\n",
        "import matplotlib.pyplot as plt\n",
        "\n",
        "from sklearn.model_selection import train_test_split\n",
        "from sklearn.preprocessing import StandardScaler\n",
        "from sklearn.neural_network import MLPClassifier\n",
        "from sklearn.svm import SVC\n",
        "\n",
        "from sklearn.metrics import f1_score\n",
        "from sklearn.metrics import precision_score\n",
        "from sklearn.metrics import recall_score\n",
        "from sklearn.metrics import accuracy_score"
      ],
      "id": "AigDRJctzBr9"
    },
    {
      "cell_type": "markdown",
      "metadata": {
        "id": "b5kiiZxFzBr_"
      },
      "source": [
        "### Q1: Write down the meta information about the “wine.csv” data file available in the UCI repository, https://archive.ics.uci.edu/ml/datasets/Wine."
      ],
      "id": "b5kiiZxFzBr_"
    },
    {
      "cell_type": "markdown",
      "metadata": {
        "id": "rf9pSlgizBsA"
      },
      "source": [
        "#### Wine Data Set\n",
        "- 0 missing vals\n",
        "- 13 real number attributes\n",
        "    1. Alcohol\n",
        "    2. Malic acid\n",
        "    3. Ash\n",
        "    4. Alcalinity of ash\n",
        "    5. Magnesium\n",
        "    6. Total phenols\n",
        "    7. Flavanoids\n",
        "    8. Nonflavanoid phenols\n",
        "    9. Proanthocyanins\n",
        "    10. Color intensity\n",
        "    11. Hue\n",
        "    12. OD280/OD315 of diluted wines\n",
        "    13. Proline\n",
        "- Classification task, classify within 3 classes: 1, 2, 3.\n",
        "\n"
      ],
      "id": "rf9pSlgizBsA"
    },
    {
      "cell_type": "code",
      "execution_count": 28,
      "metadata": {
        "colab": {
          "base_uri": "https://localhost:8080/",
          "height": 483
        },
        "id": "OvW5DYREzBsB",
        "outputId": "a4885b6e-7a24-46a4-c0fb-be8e2461e193"
      },
      "outputs": [
        {
          "output_type": "execute_result",
          "data": {
            "text/plain": [
              "                                    0        1        2        3       4\n",
              "Class                            1.00     1.00     1.00     1.00    1.00\n",
              "Alcohol                         14.23    13.20    13.16    14.37   13.24\n",
              "Malic acid                       1.71     1.78     2.36     1.95    2.59\n",
              "Ash                              2.43     2.14     2.67     2.50    2.87\n",
              "Alcalinity of ash               15.60    11.20    18.60    16.80   21.00\n",
              "Magnesium                      127.00   100.00   101.00   113.00  118.00\n",
              "Total phenols                    2.80     2.65     2.80     3.85    2.80\n",
              "Flavanoids                       3.06     2.76     3.24     3.49    2.69\n",
              "Nonflavanoid phenols             0.28     0.26     0.30     0.24    0.39\n",
              "Proanthocyanins                  2.29     1.28     2.81     2.18    1.82\n",
              "Color intensity                  5.64     4.38     5.68     7.80    4.32\n",
              "Hue                              1.04     1.05     1.03     0.86    1.04\n",
              "OD280/OD315 of diluted wines     3.92     3.40     3.17     3.45    2.93\n",
              "Proline                       1065.00  1050.00  1185.00  1480.00  735.00"
            ],
            "text/html": [
              "\n",
              "  <div id=\"df-dc0fb75a-b947-4af8-ae98-18362e4abaab\">\n",
              "    <div class=\"colab-df-container\">\n",
              "      <div>\n",
              "<style scoped>\n",
              "    .dataframe tbody tr th:only-of-type {\n",
              "        vertical-align: middle;\n",
              "    }\n",
              "\n",
              "    .dataframe tbody tr th {\n",
              "        vertical-align: top;\n",
              "    }\n",
              "\n",
              "    .dataframe thead th {\n",
              "        text-align: right;\n",
              "    }\n",
              "</style>\n",
              "<table border=\"1\" class=\"dataframe\">\n",
              "  <thead>\n",
              "    <tr style=\"text-align: right;\">\n",
              "      <th></th>\n",
              "      <th>0</th>\n",
              "      <th>1</th>\n",
              "      <th>2</th>\n",
              "      <th>3</th>\n",
              "      <th>4</th>\n",
              "    </tr>\n",
              "  </thead>\n",
              "  <tbody>\n",
              "    <tr>\n",
              "      <th>Class</th>\n",
              "      <td>1.00</td>\n",
              "      <td>1.00</td>\n",
              "      <td>1.00</td>\n",
              "      <td>1.00</td>\n",
              "      <td>1.00</td>\n",
              "    </tr>\n",
              "    <tr>\n",
              "      <th>Alcohol</th>\n",
              "      <td>14.23</td>\n",
              "      <td>13.20</td>\n",
              "      <td>13.16</td>\n",
              "      <td>14.37</td>\n",
              "      <td>13.24</td>\n",
              "    </tr>\n",
              "    <tr>\n",
              "      <th>Malic acid</th>\n",
              "      <td>1.71</td>\n",
              "      <td>1.78</td>\n",
              "      <td>2.36</td>\n",
              "      <td>1.95</td>\n",
              "      <td>2.59</td>\n",
              "    </tr>\n",
              "    <tr>\n",
              "      <th>Ash</th>\n",
              "      <td>2.43</td>\n",
              "      <td>2.14</td>\n",
              "      <td>2.67</td>\n",
              "      <td>2.50</td>\n",
              "      <td>2.87</td>\n",
              "    </tr>\n",
              "    <tr>\n",
              "      <th>Alcalinity of ash</th>\n",
              "      <td>15.60</td>\n",
              "      <td>11.20</td>\n",
              "      <td>18.60</td>\n",
              "      <td>16.80</td>\n",
              "      <td>21.00</td>\n",
              "    </tr>\n",
              "    <tr>\n",
              "      <th>Magnesium</th>\n",
              "      <td>127.00</td>\n",
              "      <td>100.00</td>\n",
              "      <td>101.00</td>\n",
              "      <td>113.00</td>\n",
              "      <td>118.00</td>\n",
              "    </tr>\n",
              "    <tr>\n",
              "      <th>Total phenols</th>\n",
              "      <td>2.80</td>\n",
              "      <td>2.65</td>\n",
              "      <td>2.80</td>\n",
              "      <td>3.85</td>\n",
              "      <td>2.80</td>\n",
              "    </tr>\n",
              "    <tr>\n",
              "      <th>Flavanoids</th>\n",
              "      <td>3.06</td>\n",
              "      <td>2.76</td>\n",
              "      <td>3.24</td>\n",
              "      <td>3.49</td>\n",
              "      <td>2.69</td>\n",
              "    </tr>\n",
              "    <tr>\n",
              "      <th>Nonflavanoid phenols</th>\n",
              "      <td>0.28</td>\n",
              "      <td>0.26</td>\n",
              "      <td>0.30</td>\n",
              "      <td>0.24</td>\n",
              "      <td>0.39</td>\n",
              "    </tr>\n",
              "    <tr>\n",
              "      <th>Proanthocyanins</th>\n",
              "      <td>2.29</td>\n",
              "      <td>1.28</td>\n",
              "      <td>2.81</td>\n",
              "      <td>2.18</td>\n",
              "      <td>1.82</td>\n",
              "    </tr>\n",
              "    <tr>\n",
              "      <th>Color intensity</th>\n",
              "      <td>5.64</td>\n",
              "      <td>4.38</td>\n",
              "      <td>5.68</td>\n",
              "      <td>7.80</td>\n",
              "      <td>4.32</td>\n",
              "    </tr>\n",
              "    <tr>\n",
              "      <th>Hue</th>\n",
              "      <td>1.04</td>\n",
              "      <td>1.05</td>\n",
              "      <td>1.03</td>\n",
              "      <td>0.86</td>\n",
              "      <td>1.04</td>\n",
              "    </tr>\n",
              "    <tr>\n",
              "      <th>OD280/OD315 of diluted wines</th>\n",
              "      <td>3.92</td>\n",
              "      <td>3.40</td>\n",
              "      <td>3.17</td>\n",
              "      <td>3.45</td>\n",
              "      <td>2.93</td>\n",
              "    </tr>\n",
              "    <tr>\n",
              "      <th>Proline</th>\n",
              "      <td>1065.00</td>\n",
              "      <td>1050.00</td>\n",
              "      <td>1185.00</td>\n",
              "      <td>1480.00</td>\n",
              "      <td>735.00</td>\n",
              "    </tr>\n",
              "  </tbody>\n",
              "</table>\n",
              "</div>\n",
              "      <button class=\"colab-df-convert\" onclick=\"convertToInteractive('df-dc0fb75a-b947-4af8-ae98-18362e4abaab')\"\n",
              "              title=\"Convert this dataframe to an interactive table.\"\n",
              "              style=\"display:none;\">\n",
              "        \n",
              "  <svg xmlns=\"http://www.w3.org/2000/svg\" height=\"24px\"viewBox=\"0 0 24 24\"\n",
              "       width=\"24px\">\n",
              "    <path d=\"M0 0h24v24H0V0z\" fill=\"none\"/>\n",
              "    <path d=\"M18.56 5.44l.94 2.06.94-2.06 2.06-.94-2.06-.94-.94-2.06-.94 2.06-2.06.94zm-11 1L8.5 8.5l.94-2.06 2.06-.94-2.06-.94L8.5 2.5l-.94 2.06-2.06.94zm10 10l.94 2.06.94-2.06 2.06-.94-2.06-.94-.94-2.06-.94 2.06-2.06.94z\"/><path d=\"M17.41 7.96l-1.37-1.37c-.4-.4-.92-.59-1.43-.59-.52 0-1.04.2-1.43.59L10.3 9.45l-7.72 7.72c-.78.78-.78 2.05 0 2.83L4 21.41c.39.39.9.59 1.41.59.51 0 1.02-.2 1.41-.59l7.78-7.78 2.81-2.81c.8-.78.8-2.07 0-2.86zM5.41 20L4 18.59l7.72-7.72 1.47 1.35L5.41 20z\"/>\n",
              "  </svg>\n",
              "      </button>\n",
              "      \n",
              "  <style>\n",
              "    .colab-df-container {\n",
              "      display:flex;\n",
              "      flex-wrap:wrap;\n",
              "      gap: 12px;\n",
              "    }\n",
              "\n",
              "    .colab-df-convert {\n",
              "      background-color: #E8F0FE;\n",
              "      border: none;\n",
              "      border-radius: 50%;\n",
              "      cursor: pointer;\n",
              "      display: none;\n",
              "      fill: #1967D2;\n",
              "      height: 32px;\n",
              "      padding: 0 0 0 0;\n",
              "      width: 32px;\n",
              "    }\n",
              "\n",
              "    .colab-df-convert:hover {\n",
              "      background-color: #E2EBFA;\n",
              "      box-shadow: 0px 1px 2px rgba(60, 64, 67, 0.3), 0px 1px 3px 1px rgba(60, 64, 67, 0.15);\n",
              "      fill: #174EA6;\n",
              "    }\n",
              "\n",
              "    [theme=dark] .colab-df-convert {\n",
              "      background-color: #3B4455;\n",
              "      fill: #D2E3FC;\n",
              "    }\n",
              "\n",
              "    [theme=dark] .colab-df-convert:hover {\n",
              "      background-color: #434B5C;\n",
              "      box-shadow: 0px 1px 3px 1px rgba(0, 0, 0, 0.15);\n",
              "      filter: drop-shadow(0px 1px 2px rgba(0, 0, 0, 0.3));\n",
              "      fill: #FFFFFF;\n",
              "    }\n",
              "  </style>\n",
              "\n",
              "      <script>\n",
              "        const buttonEl =\n",
              "          document.querySelector('#df-dc0fb75a-b947-4af8-ae98-18362e4abaab button.colab-df-convert');\n",
              "        buttonEl.style.display =\n",
              "          google.colab.kernel.accessAllowed ? 'block' : 'none';\n",
              "\n",
              "        async function convertToInteractive(key) {\n",
              "          const element = document.querySelector('#df-dc0fb75a-b947-4af8-ae98-18362e4abaab');\n",
              "          const dataTable =\n",
              "            await google.colab.kernel.invokeFunction('convertToInteractive',\n",
              "                                                     [key], {});\n",
              "          if (!dataTable) return;\n",
              "\n",
              "          const docLinkHtml = 'Like what you see? Visit the ' +\n",
              "            '<a target=\"_blank\" href=https://colab.research.google.com/notebooks/data_table.ipynb>data table notebook</a>'\n",
              "            + ' to learn more about interactive tables.';\n",
              "          element.innerHTML = '';\n",
              "          dataTable['output_type'] = 'display_data';\n",
              "          await google.colab.output.renderOutput(dataTable, element);\n",
              "          const docLink = document.createElement('div');\n",
              "          docLink.innerHTML = docLinkHtml;\n",
              "          element.appendChild(docLink);\n",
              "        }\n",
              "      </script>\n",
              "    </div>\n",
              "  </div>\n",
              "  "
            ]
          },
          "metadata": {},
          "execution_count": 28
        }
      ],
      "source": [
        "df = pd.read_csv('wine.csv')\n",
        "df.head().T"
      ],
      "id": "OvW5DYREzBsB"
    },
    {
      "cell_type": "markdown",
      "metadata": {
        "id": "LgGyYnnHzBsD"
      },
      "source": [
        "### Q2: Tabulate and visualize the distribution of the numeric variables."
      ],
      "id": "LgGyYnnHzBsD"
    },
    {
      "cell_type": "code",
      "execution_count": 29,
      "metadata": {
        "scrolled": false,
        "colab": {
          "base_uri": "https://localhost:8080/",
          "height": 1000
        },
        "id": "Vr5YcxbezBsE",
        "outputId": "a50e5dce-26ff-42b0-b645-7939b784f249"
      },
      "outputs": [
        {
          "output_type": "display_data",
          "data": {
            "text/plain": [
              "<Figure size 360x360 with 1 Axes>"
            ],
            "image/png": "[encoded data removed]"
          },
          "metadata": {
            "needs_background": "light"
          }
        },
        {
          "output_type": "display_data",
          "data": {
            "text/plain": [
              "<Figure size 360x360 with 1 Axes>"
            ],
            "image/png": "[encoded data removed]"
          },
          "metadata": {
            "needs_background": "light"
          }
        },
        {
          "output_type": "display_data",
          "data": {
            "text/plain": [
              "<Figure size 360x360 with 1 Axes>"
            ],
            "image/png": "[encoded data removed]"
          },
          "metadata": {
            "needs_background": "light"
          }
        },
        {
          "output_type": "display_data",
          "data": {
            "text/plain": [
              "<Figure size 360x360 with 1 Axes>"
            ],
            "image/png": "[encoded data removed]"
          },
          "metadata": {
            "needs_background": "light"
          }
        },
        {
          "output_type": "display_data",
          "data": {
            "text/plain": [
              "<Figure size 360x360 with 1 Axes>"
            ],
            "image/png": "[encoded data removed]"
          },
          "metadata": {
            "needs_background": "light"
          }
        },
        {
          "output_type": "display_data",
          "data": {
            "text/plain": [
              "<Figure size 360x360 with 1 Axes>"
            ],
            "image/png": "[encoded data removed]"
          },
          "metadata": {
            "needs_background": "light"
          }
        },
        {
          "output_type": "display_data",
          "data": {
            "text/plain": [
              "<Figure size 360x360 with 1 Axes>"
            ],
            "image/png": "[encoded data removed]"
          },
          "metadata": {
            "needs_background": "light"
          }
        },
        {
          "output_type": "display_data",
          "data": {
            "text/plain": [
              "<Figure size 360x360 with 1 Axes>"
            ],
            "image/png": "[encoded data removed]"
          },
          "metadata": {
            "needs_background": "light"
          }
        },
        {
          "output_type": "display_data",
          "data": {
            "text/plain": [
              "<Figure size 360x360 with 1 Axes>"
            ],
            "image/png": "[encoded data removed]"
          },
          "metadata": {
            "needs_background": "light"
          }
        },
        {
          "output_type": "display_data",
          "data": {
            "text/plain": [
              "<Figure size 360x360 with 1 Axes>"
            ],
            "image/png": "[encoded data removed]"
          },
          "metadata": {
            "needs_background": "light"
          }
        },
        {
          "output_type": "display_data",
          "data": {
            "text/plain": [
              "<Figure size 360x360 with 1 Axes>"
            ],
            "image/png": "[encoded data removed]"
          },
          "metadata": {
            "needs_background": "light"
          }
        },
        {
          "output_type": "display_data",
          "data": {
            "text/plain": [
              "<Figure size 360x360 with 1 Axes>"
            ],
            "image/png": "[encoded data removed]"
          },
          "metadata": {
            "needs_background": "light"
          }
        },
        {
          "output_type": "display_data",
          "data": {
            "text/plain": [
              "<Figure size 360x360 with 1 Axes>"
            ],
            "image/png": "[encoded data removed]"
          },
          "metadata": {
            "needs_background": "light"
          }
        },
        {
          "output_type": "display_data",
          "data": {
            "text/plain": [
              "<Figure size 360x360 with 1 Axes>"
            ],
            "image/png": "[encoded data removed]"
          },
          "metadata": {
            "needs_background": "light"
          }
        }
      ],
      "source": [
        "for col in list(df):\n",
        "    sns.displot(df, x=str(col))"
      ],
      "id": "Vr5YcxbezBsE"
    },
    {
      "cell_type": "code",
      "execution_count": 30,
      "metadata": {
        "colab": {
          "base_uri": "https://localhost:8080/"
        },
        "id": "6QJSsPxtzBsF",
        "outputId": "5f67c43b-42a8-4e3a-8007-a843791415aa"
      },
      "outputs": [
        {
          "output_type": "execute_result",
          "data": {
            "text/plain": [
              "Class                           0\n",
              "Alcohol                         0\n",
              "Malic acid                      0\n",
              "Ash                             0\n",
              "Alcalinity of ash               0\n",
              "Magnesium                       0\n",
              "Total phenols                   0\n",
              "Flavanoids                      0\n",
              "Nonflavanoid phenols            0\n",
              "Proanthocyanins                 0\n",
              "Color intensity                 0\n",
              "Hue                             0\n",
              "OD280/OD315 of diluted wines    0\n",
              "Proline                         0\n",
              "dtype: int64"
            ]
          },
          "metadata": {},
          "execution_count": 30
        }
      ],
      "source": [
        "df.isnull().sum()"
      ],
      "id": "6QJSsPxtzBsF"
    },
    {
      "cell_type": "code",
      "execution_count": 31,
      "metadata": {
        "colab": {
          "base_uri": "https://localhost:8080/",
          "height": 395
        },
        "id": "sH7hh1n6zBsF",
        "outputId": "2ac6dbec-42df-44d5-d598-530a78d05c35"
      },
      "outputs": [
        {
          "output_type": "execute_result",
          "data": {
            "text/plain": [
              "            Class     Alcohol  Malic acid         Ash  Alcalinity of ash  \\\n",
              "count  178.000000  178.000000  178.000000  178.000000         178.000000   \n",
              "mean     1.938202   13.000618    2.336348    2.366517          19.494944   \n",
              "std      0.775035    0.811827    1.117146    0.274344           3.339564   \n",
              "min      1.000000   11.030000    0.740000    1.360000          10.600000   \n",
              "25%      1.000000   12.362500    1.602500    2.210000          17.200000   \n",
              "50%      2.000000   13.050000    1.865000    2.360000          19.500000   \n",
              "75%      3.000000   13.677500    3.082500    2.557500          21.500000   \n",
              "max      3.000000   14.830000    5.800000    3.230000          30.000000   \n",
              "\n",
              "        Magnesium  Total phenols  Flavanoids  Nonflavanoid phenols  \\\n",
              "count  178.000000     178.000000  178.000000            178.000000   \n",
              "mean    99.741573       2.295112    2.029270              0.361854   \n",
              "std     14.282484       0.625851    0.998859              0.124453   \n",
              "min     70.000000       0.980000    0.340000              0.130000   \n",
              "25%     88.000000       1.742500    1.205000              0.270000   \n",
              "50%     98.000000       2.355000    2.135000              0.340000   \n",
              "75%    107.000000       2.800000    2.875000              0.437500   \n",
              "max    162.000000       3.880000    5.080000              0.660000   \n",
              "\n",
              "       Proanthocyanins  Color intensity         Hue  \\\n",
              "count       178.000000       178.000000  178.000000   \n",
              "mean          1.590899         5.058090    0.957449   \n",
              "std           0.572359         2.318286    0.228572   \n",
              "min           0.410000         1.280000    0.480000   \n",
              "25%           1.250000         3.220000    0.782500   \n",
              "50%           1.555000         4.690000    0.965000   \n",
              "75%           1.950000         6.200000    1.120000   \n",
              "max           3.580000        13.000000    1.710000   \n",
              "\n",
              "       OD280/OD315 of diluted wines     Proline   \n",
              "count                    178.000000   178.000000  \n",
              "mean                       2.611685   746.893258  \n",
              "std                        0.709990   314.907474  \n",
              "min                        1.270000   278.000000  \n",
              "25%                        1.937500   500.500000  \n",
              "50%                        2.780000   673.500000  \n",
              "75%                        3.170000   985.000000  \n",
              "max                        4.000000  1680.000000  "
            ],
            "text/html": [
              "\n",
              "  <div id=\"df-664a0f33-1344-4df2-9d4c-3c50836ead92\">\n",
              "    <div class=\"colab-df-container\">\n",
              "      <div>\n",
              "<style scoped>\n",
              "    .dataframe tbody tr th:only-of-type {\n",
              "        vertical-align: middle;\n",
              "    }\n",
              "\n",
              "    .dataframe tbody tr th {\n",
              "        vertical-align: top;\n",
              "    }\n",
              "\n",
              "    .dataframe thead th {\n",
              "        text-align: right;\n",
              "    }\n",
              "</style>\n",
              "<table border=\"1\" class=\"dataframe\">\n",
              "  <thead>\n",
              "    <tr style=\"text-align: right;\">\n",
              "      <th></th>\n",
              "      <th>Class</th>\n",
              "      <th>Alcohol</th>\n",
              "      <th>Malic acid</th>\n",
              "      <th>Ash</th>\n",
              "      <th>Alcalinity of ash</th>\n",
              "      <th>Magnesium</th>\n",
              "      <th>Total phenols</th>\n",
              "      <th>Flavanoids</th>\n",
              "      <th>Nonflavanoid phenols</th>\n",
              "      <th>Proanthocyanins</th>\n",
              "      <th>Color intensity</th>\n",
              "      <th>Hue</th>\n",
              "      <th>OD280/OD315 of diluted wines</th>\n",
              "      <th>Proline</th>\n",
              "    </tr>\n",
              "  </thead>\n",
              "  <tbody>\n",
              "    <tr>\n",
              "      <th>count</th>\n",
              "      <td>178.000000</td>\n",
              "      <td>178.000000</td>\n",
              "      <td>178.000000</td>\n",
              "      <td>178.000000</td>\n",
              "      <td>178.000000</td>\n",
              "      <td>178.000000</td>\n",
              "      <td>178.000000</td>\n",
              "      <td>178.000000</td>\n",
              "      <td>178.000000</td>\n",
              "      <td>178.000000</td>\n",
              "      <td>178.000000</td>\n",
              "      <td>178.000000</td>\n",
              "      <td>178.000000</td>\n",
              "      <td>178.000000</td>\n",
              "    </tr>\n",
              "    <tr>\n",
              "      <th>mean</th>\n",
              "      <td>1.938202</td>\n",
              "      <td>13.000618</td>\n",
              "      <td>2.336348</td>\n",
              "      <td>2.366517</td>\n",
              "      <td>19.494944</td>\n",
              "      <td>99.741573</td>\n",
              "      <td>2.295112</td>\n",
              "      <td>2.029270</td>\n",
              "      <td>0.361854</td>\n",
              "      <td>1.590899</td>\n",
              "      <td>5.058090</td>\n",
              "      <td>0.957449</td>\n",
              "      <td>2.611685</td>\n",
              "      <td>746.893258</td>\n",
              "    </tr>\n",
              "    <tr>\n",
              "      <th>std</th>\n",
              "      <td>0.775035</td>\n",
              "      <td>0.811827</td>\n",
              "      <td>1.117146</td>\n",
              "      <td>0.274344</td>\n",
              "      <td>3.339564</td>\n",
              "      <td>14.282484</td>\n",
              "      <td>0.625851</td>\n",
              "      <td>0.998859</td>\n",
              "      <td>0.124453</td>\n",
              "      <td>0.572359</td>\n",
              "      <td>2.318286</td>\n",
              "      <td>0.228572</td>\n",
              "      <td>0.709990</td>\n",
              "      <td>314.907474</td>\n",
              "    </tr>\n",
              "    <tr>\n",
              "      <th>min</th>\n",
              "      <td>1.000000</td>\n",
              "      <td>11.030000</td>\n",
              "      <td>0.740000</td>\n",
              "      <td>1.360000</td>\n",
              "      <td>10.600000</td>\n",
              "      <td>70.000000</td>\n",
              "      <td>0.980000</td>\n",
              "      <td>0.340000</td>\n",
              "      <td>0.130000</td>\n",
              "      <td>0.410000</td>\n",
              "      <td>1.280000</td>\n",
              "      <td>0.480000</td>\n",
              "      <td>1.270000</td>\n",
              "      <td>278.000000</td>\n",
              "    </tr>\n",
              "    <tr>\n",
              "      <th>25%</th>\n",
              "      <td>1.000000</td>\n",
              "      <td>12.362500</td>\n",
              "      <td>1.602500</td>\n",
              "      <td>2.210000</td>\n",
              "      <td>17.200000</td>\n",
              "      <td>88.000000</td>\n",
              "      <td>1.742500</td>\n",
              "      <td>1.205000</td>\n",
              "      <td>0.270000</td>\n",
              "      <td>1.250000</td>\n",
              "      <td>3.220000</td>\n",
              "      <td>0.782500</td>\n",
              "      <td>1.937500</td>\n",
              "      <td>500.500000</td>\n",
              "    </tr>\n",
              "    <tr>\n",
              "      <th>50%</th>\n",
              "      <td>2.000000</td>\n",
              "      <td>13.050000</td>\n",
              "      <td>1.865000</td>\n",
              "      <td>2.360000</td>\n",
              "      <td>19.500000</td>\n",
              "      <td>98.000000</td>\n",
              "      <td>2.355000</td>\n",
              "      <td>2.135000</td>\n",
              "      <td>0.340000</td>\n",
              "      <td>1.555000</td>\n",
              "      <td>4.690000</td>\n",
              "      <td>0.965000</td>\n",
              "      <td>2.780000</td>\n",
              "      <td>673.500000</td>\n",
              "    </tr>\n",
              "    <tr>\n",
              "      <th>75%</th>\n",
              "      <td>3.000000</td>\n",
              "      <td>13.677500</td>\n",
              "      <td>3.082500</td>\n",
              "      <td>2.557500</td>\n",
              "      <td>21.500000</td>\n",
              "      <td>107.000000</td>\n",
              "      <td>2.800000</td>\n",
              "      <td>2.875000</td>\n",
              "      <td>0.437500</td>\n",
              "      <td>1.950000</td>\n",
              "      <td>6.200000</td>\n",
              "      <td>1.120000</td>\n",
              "      <td>3.170000</td>\n",
              "      <td>985.000000</td>\n",
              "    </tr>\n",
              "    <tr>\n",
              "      <th>max</th>\n",
              "      <td>3.000000</td>\n",
              "      <td>14.830000</td>\n",
              "      <td>5.800000</td>\n",
              "      <td>3.230000</td>\n",
              "      <td>30.000000</td>\n",
              "      <td>162.000000</td>\n",
              "      <td>3.880000</td>\n",
              "      <td>5.080000</td>\n",
              "      <td>0.660000</td>\n",
              "      <td>3.580000</td>\n",
              "      <td>13.000000</td>\n",
              "      <td>1.710000</td>\n",
              "      <td>4.000000</td>\n",
              "      <td>1680.000000</td>\n",
              "    </tr>\n",
              "  </tbody>\n",
              "</table>\n",
              "</div>\n",
              "      <button class=\"colab-df-convert\" onclick=\"convertToInteractive('df-664a0f33-1344-4df2-9d4c-3c50836ead92')\"\n",
              "              title=\"Convert this dataframe to an interactive table.\"\n",
              "              style=\"display:none;\">\n",
              "        \n",
              "  <svg xmlns=\"http://www.w3.org/2000/svg\" height=\"24px\"viewBox=\"0 0 24 24\"\n",
              "       width=\"24px\">\n",
              "    <path d=\"M0 0h24v24H0V0z\" fill=\"none\"/>\n",
              "    <path d=\"M18.56 5.44l.94 2.06.94-2.06 2.06-.94-2.06-.94-.94-2.06-.94 2.06-2.06.94zm-11 1L8.5 8.5l.94-2.06 2.06-.94-2.06-.94L8.5 2.5l-.94 2.06-2.06.94zm10 10l.94 2.06.94-2.06 2.06-.94-2.06-.94-.94-2.06-.94 2.06-2.06.94z\"/><path d=\"M17.41 7.96l-1.37-1.37c-.4-.4-.92-.59-1.43-.59-.52 0-1.04.2-1.43.59L10.3 9.45l-7.72 7.72c-.78.78-.78 2.05 0 2.83L4 21.41c.39.39.9.59 1.41.59.51 0 1.02-.2 1.41-.59l7.78-7.78 2.81-2.81c.8-.78.8-2.07 0-2.86zM5.41 20L4 18.59l7.72-7.72 1.47 1.35L5.41 20z\"/>\n",
              "  </svg>\n",
              "      </button>\n",
              "      \n",
              "  <style>\n",
              "    .colab-df-container {\n",
              "      display:flex;\n",
              "      flex-wrap:wrap;\n",
              "      gap: 12px;\n",
              "    }\n",
              "\n",
              "    .colab-df-convert {\n",
              "      background-color: #E8F0FE;\n",
              "      border: none;\n",
              "      border-radius: 50%;\n",
              "      cursor: pointer;\n",
              "      display: none;\n",
              "      fill: #1967D2;\n",
              "      height: 32px;\n",
              "      padding: 0 0 0 0;\n",
              "      width: 32px;\n",
              "    }\n",
              "\n",
              "    .colab-df-convert:hover {\n",
              "      background-color: #E2EBFA;\n",
              "      box-shadow: 0px 1px 2px rgba(60, 64, 67, 0.3), 0px 1px 3px 1px rgba(60, 64, 67, 0.15);\n",
              "      fill: #174EA6;\n",
              "    }\n",
              "\n",
              "    [theme=dark] .colab-df-convert {\n",
              "      background-color: #3B4455;\n",
              "      fill: #D2E3FC;\n",
              "    }\n",
              "\n",
              "    [theme=dark] .colab-df-convert:hover {\n",
              "      background-color: #434B5C;\n",
              "      box-shadow: 0px 1px 3px 1px rgba(0, 0, 0, 0.15);\n",
              "      filter: drop-shadow(0px 1px 2px rgba(0, 0, 0, 0.3));\n",
              "      fill: #FFFFFF;\n",
              "    }\n",
              "  </style>\n",
              "\n",
              "      <script>\n",
              "        const buttonEl =\n",
              "          document.querySelector('#df-664a0f33-1344-4df2-9d4c-3c50836ead92 button.colab-df-convert');\n",
              "        buttonEl.style.display =\n",
              "          google.colab.kernel.accessAllowed ? 'block' : 'none';\n",
              "\n",
              "        async function convertToInteractive(key) {\n",
              "          const element = document.querySelector('#df-664a0f33-1344-4df2-9d4c-3c50836ead92');\n",
              "          const dataTable =\n",
              "            await google.colab.kernel.invokeFunction('convertToInteractive',\n",
              "                                                     [key], {});\n",
              "          if (!dataTable) return;\n",
              "\n",
              "          const docLinkHtml = 'Like what you see? Visit the ' +\n",
              "            '<a target=\"_blank\" href=https://colab.research.google.com/notebooks/data_table.ipynb>data table notebook</a>'\n",
              "            + ' to learn more about interactive tables.';\n",
              "          element.innerHTML = '';\n",
              "          dataTable['output_type'] = 'display_data';\n",
              "          await google.colab.output.renderOutput(dataTable, element);\n",
              "          const docLink = document.createElement('div');\n",
              "          docLink.innerHTML = docLinkHtml;\n",
              "          element.appendChild(docLink);\n",
              "        }\n",
              "      </script>\n",
              "    </div>\n",
              "  </div>\n",
              "  "
            ]
          },
          "metadata": {},
          "execution_count": 31
        }
      ],
      "source": [
        "df.describe()"
      ],
      "id": "sH7hh1n6zBsF"
    },
    {
      "cell_type": "markdown",
      "metadata": {
        "id": "G79mIukFzBsG"
      },
      "source": [
        "### Q3: Perform  the  required  preprocessing  ,  70,30  split  and  build  a  classifier  using the Multi-Layer  Perceptron  Classifier  modelavailable  in  SciKit  Learn. Use 3  layers with  the  same  number  of  neurons  as  there  are  features  along  with  500  max iterations."
      ],
      "id": "G79mIukFzBsG"
    },
    {
      "cell_type": "code",
      "execution_count": 32,
      "metadata": {
        "id": "-elm7M_RzBsG"
      },
      "outputs": [],
      "source": [
        "X, y = df.drop(['Class'], axis=1).to_numpy(), df['Class'].to_numpy()\n",
        "\n",
        "X_train, X_test, y_train, y_test = train_test_split(X, y, test_size = 0.3, random_state = 100)"
      ],
      "id": "-elm7M_RzBsG"
    },
    {
      "cell_type": "code",
      "execution_count": 33,
      "metadata": {
        "id": "xSIUoWGPzBsG"
      },
      "outputs": [],
      "source": [
        "scaler = StandardScaler()\n",
        "X_train = scaler.fit_transform(np.asarray(X_train))\n",
        "X_test = scaler.transform(np.asarray(X_test))"
      ],
      "id": "xSIUoWGPzBsG"
    },
    {
      "cell_type": "code",
      "execution_count": 34,
      "metadata": {
        "id": "EiR42XyUzBsH"
      },
      "outputs": [],
      "source": [
        "classifier = MLPClassifier(hidden_layer_sizes=(13,13,13),\n",
        "                           max_iter=500,\n",
        "                           activation = 'relu',\n",
        "                           solver='adam', \n",
        "                           random_state=1)"
      ],
      "id": "EiR42XyUzBsH"
    },
    {
      "cell_type": "code",
      "execution_count": 35,
      "metadata": {
        "colab": {
          "base_uri": "https://localhost:8080/"
        },
        "id": "H2m920L4zBsH",
        "outputId": "7362f98c-67d0-4409-fafa-5af6eaba0049"
      },
      "outputs": [
        {
          "output_type": "execute_result",
          "data": {
            "text/plain": [
              "MLPClassifier(hidden_layer_sizes=(13, 13, 13), max_iter=500, random_state=1)"
            ]
          },
          "metadata": {},
          "execution_count": 35
        }
      ],
      "source": [
        "classifier.fit(X_train, y_train)"
      ],
      "id": "H2m920L4zBsH"
    },
    {
      "cell_type": "code",
      "execution_count": 36,
      "metadata": {
        "id": "bkn62PYtzBsI"
      },
      "outputs": [],
      "source": [
        "y_train_pred = classifier.predict(X_train)\n",
        "y_test_pred = classifier.predict(X_test)"
      ],
      "id": "bkn62PYtzBsI"
    },
    {
      "cell_type": "code",
      "execution_count": 37,
      "metadata": {
        "id": "8kXUl9B5zBsJ"
      },
      "outputs": [],
      "source": [
        "f1_train = f1_score(y_train_pred, y_train, average=None)"
      ],
      "id": "8kXUl9B5zBsJ"
    },
    {
      "cell_type": "code",
      "execution_count": 38,
      "metadata": {
        "id": "KhkrujcFzBsK"
      },
      "outputs": [],
      "source": [
        "f1_pred = f1_score(y_test_pred, y_test, average=None)"
      ],
      "id": "KhkrujcFzBsK"
    },
    {
      "cell_type": "code",
      "execution_count": 39,
      "metadata": {
        "id": "pkoWchmbzBsK"
      },
      "outputs": [],
      "source": [
        "precision_train = precision_score(y_train_pred, y_train, average=None)"
      ],
      "id": "pkoWchmbzBsK"
    },
    {
      "cell_type": "code",
      "execution_count": 40,
      "metadata": {
        "id": "Hc8iqTRyzBsL"
      },
      "outputs": [],
      "source": [
        "precision_pred = precision_score(y_test_pred, y_test, average=None)"
      ],
      "id": "Hc8iqTRyzBsL"
    },
    {
      "cell_type": "code",
      "execution_count": 41,
      "metadata": {
        "colab": {
          "base_uri": "https://localhost:8080/"
        },
        "id": "rtw4jiOizBsM",
        "outputId": "ff3c1df5-23c7-488d-9008-92705266147e"
      },
      "outputs": [
        {
          "output_type": "execute_result",
          "data": {
            "text/plain": [
              "array([1., 1., 1.])"
            ]
          },
          "metadata": {},
          "execution_count": 41
        }
      ],
      "source": [
        "recall_score(y_train_pred, y_train, average=None)"
      ],
      "id": "rtw4jiOizBsM"
    },
    {
      "cell_type": "code",
      "execution_count": 42,
      "metadata": {
        "colab": {
          "base_uri": "https://localhost:8080/"
        },
        "id": "TIdFZ_-TzBsM",
        "outputId": "1a67a818-5954-4377-ea41-bfd89946b3dd"
      },
      "outputs": [
        {
          "output_type": "execute_result",
          "data": {
            "text/plain": [
              "array([0.93333333, 0.94736842, 1.        ])"
            ]
          },
          "metadata": {},
          "execution_count": 42
        }
      ],
      "source": [
        "recall_score(y_test_pred, y_test, average=None)"
      ],
      "id": "TIdFZ_-TzBsM"
    },
    {
      "cell_type": "code",
      "execution_count": 43,
      "metadata": {
        "id": "dXPwvYWvzBsO"
      },
      "outputs": [],
      "source": [
        "acc_train = accuracy_score(y_train_pred, y_train)"
      ],
      "id": "dXPwvYWvzBsO"
    },
    {
      "cell_type": "code",
      "execution_count": 44,
      "metadata": {
        "id": "Ud21C1VjzBsO"
      },
      "outputs": [],
      "source": [
        "acc_test = accuracy_score(y_test_pred, y_test)"
      ],
      "id": "Ud21C1VjzBsO"
    },
    {
      "cell_type": "markdown",
      "metadata": {
        "id": "QgQqHwTPzBsP"
      },
      "source": [
        "### Q4: Tabulate the precision, recall and F1-score"
      ],
      "id": "QgQqHwTPzBsP"
    },
    {
      "cell_type": "code",
      "execution_count": 45,
      "metadata": {
        "colab": {
          "base_uri": "https://localhost:8080/",
          "height": 279
        },
        "id": "ntOFYZaIzBsP",
        "outputId": "2f5f21c3-fbde-4c6f-b600-d8d48d4a0207"
      },
      "outputs": [
        {
          "output_type": "display_data",
          "data": {
            "text/plain": [
              "<Figure size 432x288 with 1 Axes>"
            ],
            "image/png": "[encoded data removed]"
          },
          "metadata": {
            "needs_background": "light"
          }
        }
      ],
      "source": [
        "plt.plot(classifier.loss_curve_)\n",
        "plt.xlabel(\"Iterations\")\n",
        "plt.ylabel('Error')\n",
        "plt.show()"
      ],
      "id": "ntOFYZaIzBsP"
    },
    {
      "cell_type": "code",
      "execution_count": 46,
      "metadata": {
        "colab": {
          "base_uri": "https://localhost:8080/",
          "height": 142
        },
        "id": "a7kTjCmlzBsQ",
        "outputId": "8156221c-cece-4da7-8f59-a3265c7ce86a"
      },
      "outputs": [
        {
          "output_type": "execute_result",
          "data": {
            "text/plain": [
              "         F1    Recall\n",
              "0  0.965517  1.000000\n",
              "1  0.947368  0.947368\n",
              "2  0.975610  0.952381"
            ],
            "text/html": [
              "\n",
              "  <div id=\"df-8d347978-fac3-4a6b-a403-4e86d09a35a1\">\n",
              "    <div class=\"colab-df-container\">\n",
              "      <div>\n",
              "<style scoped>\n",
              "    .dataframe tbody tr th:only-of-type {\n",
              "        vertical-align: middle;\n",
              "    }\n",
              "\n",
              "    .dataframe tbody tr th {\n",
              "        vertical-align: top;\n",
              "    }\n",
              "\n",
              "    .dataframe thead th {\n",
              "        text-align: right;\n",
              "    }\n",
              "</style>\n",
              "<table border=\"1\" class=\"dataframe\">\n",
              "  <thead>\n",
              "    <tr style=\"text-align: right;\">\n",
              "      <th></th>\n",
              "      <th>F1</th>\n",
              "      <th>Recall</th>\n",
              "    </tr>\n",
              "  </thead>\n",
              "  <tbody>\n",
              "    <tr>\n",
              "      <th>0</th>\n",
              "      <td>0.965517</td>\n",
              "      <td>1.000000</td>\n",
              "    </tr>\n",
              "    <tr>\n",
              "      <th>1</th>\n",
              "      <td>0.947368</td>\n",
              "      <td>0.947368</td>\n",
              "    </tr>\n",
              "    <tr>\n",
              "      <th>2</th>\n",
              "      <td>0.975610</td>\n",
              "      <td>0.952381</td>\n",
              "    </tr>\n",
              "  </tbody>\n",
              "</table>\n",
              "</div>\n",
              "      <button class=\"colab-df-convert\" onclick=\"convertToInteractive('df-8d347978-fac3-4a6b-a403-4e86d09a35a1')\"\n",
              "              title=\"Convert this dataframe to an interactive table.\"\n",
              "              style=\"display:none;\">\n",
              "        \n",
              "  <svg xmlns=\"http://www.w3.org/2000/svg\" height=\"24px\"viewBox=\"0 0 24 24\"\n",
              "       width=\"24px\">\n",
              "    <path d=\"M0 0h24v24H0V0z\" fill=\"none\"/>\n",
              "    <path d=\"M18.56 5.44l.94 2.06.94-2.06 2.06-.94-2.06-.94-.94-2.06-.94 2.06-2.06.94zm-11 1L8.5 8.5l.94-2.06 2.06-.94-2.06-.94L8.5 2.5l-.94 2.06-2.06.94zm10 10l.94 2.06.94-2.06 2.06-.94-2.06-.94-.94-2.06-.94 2.06-2.06.94z\"/><path d=\"M17.41 7.96l-1.37-1.37c-.4-.4-.92-.59-1.43-.59-.52 0-1.04.2-1.43.59L10.3 9.45l-7.72 7.72c-.78.78-.78 2.05 0 2.83L4 21.41c.39.39.9.59 1.41.59.51 0 1.02-.2 1.41-.59l7.78-7.78 2.81-2.81c.8-.78.8-2.07 0-2.86zM5.41 20L4 18.59l7.72-7.72 1.47 1.35L5.41 20z\"/>\n",
              "  </svg>\n",
              "      </button>\n",
              "      \n",
              "  <style>\n",
              "    .colab-df-container {\n",
              "      display:flex;\n",
              "      flex-wrap:wrap;\n",
              "      gap: 12px;\n",
              "    }\n",
              "\n",
              "    .colab-df-convert {\n",
              "      background-color: #E8F0FE;\n",
              "      border: none;\n",
              "      border-radius: 50%;\n",
              "      cursor: pointer;\n",
              "      display: none;\n",
              "      fill: #1967D2;\n",
              "      height: 32px;\n",
              "      padding: 0 0 0 0;\n",
              "      width: 32px;\n",
              "    }\n",
              "\n",
              "    .colab-df-convert:hover {\n",
              "      background-color: #E2EBFA;\n",
              "      box-shadow: 0px 1px 2px rgba(60, 64, 67, 0.3), 0px 1px 3px 1px rgba(60, 64, 67, 0.15);\n",
              "      fill: #174EA6;\n",
              "    }\n",
              "\n",
              "    [theme=dark] .colab-df-convert {\n",
              "      background-color: #3B4455;\n",
              "      fill: #D2E3FC;\n",
              "    }\n",
              "\n",
              "    [theme=dark] .colab-df-convert:hover {\n",
              "      background-color: #434B5C;\n",
              "      box-shadow: 0px 1px 3px 1px rgba(0, 0, 0, 0.15);\n",
              "      filter: drop-shadow(0px 1px 2px rgba(0, 0, 0, 0.3));\n",
              "      fill: #FFFFFF;\n",
              "    }\n",
              "  </style>\n",
              "\n",
              "      <script>\n",
              "        const buttonEl =\n",
              "          document.querySelector('#df-8d347978-fac3-4a6b-a403-4e86d09a35a1 button.colab-df-convert');\n",
              "        buttonEl.style.display =\n",
              "          google.colab.kernel.accessAllowed ? 'block' : 'none';\n",
              "\n",
              "        async function convertToInteractive(key) {\n",
              "          const element = document.querySelector('#df-8d347978-fac3-4a6b-a403-4e86d09a35a1');\n",
              "          const dataTable =\n",
              "            await google.colab.kernel.invokeFunction('convertToInteractive',\n",
              "                                                     [key], {});\n",
              "          if (!dataTable) return;\n",
              "\n",
              "          const docLinkHtml = 'Like what you see? Visit the ' +\n",
              "            '<a target=\"_blank\" href=https://colab.research.google.com/notebooks/data_table.ipynb>data table notebook</a>'\n",
              "            + ' to learn more about interactive tables.';\n",
              "          element.innerHTML = '';\n",
              "          dataTable['output_type'] = 'display_data';\n",
              "          await google.colab.output.renderOutput(dataTable, element);\n",
              "          const docLink = document.createElement('div');\n",
              "          docLink.innerHTML = docLinkHtml;\n",
              "          element.appendChild(docLink);\n",
              "        }\n",
              "      </script>\n",
              "    </div>\n",
              "  </div>\n",
              "  "
            ]
          },
          "metadata": {},
          "execution_count": 46
        }
      ],
      "source": [
        "df2 = pd.DataFrame([f1_pred,precision_pred])\n",
        "df2 = df2.T\n",
        "df2.columns =['F1','Recall']\n",
        "df2"
      ],
      "id": "a7kTjCmlzBsQ"
    },
    {
      "cell_type": "code",
      "execution_count": 47,
      "metadata": {
        "colab": {
          "base_uri": "https://localhost:8080/"
        },
        "id": "C89k17GLzBsR",
        "outputId": "1b43619e-42e3-4430-82e2-e2dffda8560b"
      },
      "outputs": [
        {
          "output_type": "stream",
          "name": "stdout",
          "text": [
            "0.9629629629629629\n"
          ]
        }
      ],
      "source": [
        "print(acc_test)"
      ],
      "id": "C89k17GLzBsR"
    },
    {
      "cell_type": "markdown",
      "source": [
        "### Q5: Display the MLP weights and biases after training your model."
      ],
      "metadata": {
        "id": "dJmPcod_zfTo"
      },
      "id": "dJmPcod_zfTo"
    },
    {
      "cell_type": "code",
      "execution_count": 48,
      "metadata": {
        "colab": {
          "base_uri": "https://localhost:8080/"
        },
        "id": "6T29nslwzBsR",
        "outputId": "18548000-f53e-4fa6-e48e-1be3a486a879"
      },
      "outputs": [
        {
          "output_type": "execute_result",
          "data": {
            "text/plain": [
              "[array([ 0.21097402,  0.00138231,  0.36168373,  0.20576889,  0.10716115,\n",
              "         0.20328226,  0.31306833,  0.32391299, -0.09878013, -0.29598381,\n",
              "         0.05446027,  0.31115402, -0.27028202]),\n",
              " array([ 0.33408021, -0.27980584, -0.15161292,  0.21091367, -0.06223864,\n",
              "         0.36350123,  0.10736486,  0.23166178,  0.65358735, -0.03503613,\n",
              "        -0.37831175,  0.39419249,  0.19947234]),\n",
              " array([ 0.21370079,  0.43731735,  0.29801412,  0.11543197,  0.13847764,\n",
              "        -0.46776346, -0.01818712, -0.00761717,  0.19024616,  0.04348301,\n",
              "         0.05457449, -0.27888065, -0.29851509]),\n",
              " array([-0.02515934,  0.39730606, -0.27985186])]"
            ]
          },
          "metadata": {},
          "execution_count": 48
        }
      ],
      "source": [
        "classifier.intercepts_"
      ],
      "id": "6T29nslwzBsR"
    },
    {
      "cell_type": "markdown",
      "source": [
        ""
      ],
      "metadata": {
        "id": "bi4k1o_9zYQR"
      },
      "id": "bi4k1o_9zYQR"
    },
    {
      "cell_type": "code",
      "source": [
        "classifier.coefs_"
      ],
      "metadata": {
        "colab": {
          "base_uri": "https://localhost:8080/"
        },
        "id": "pW95H4iyzSE6",
        "outputId": "b5590cd5-0525-4960-b722-1f56c663c6c6"
      },
      "id": "pW95H4iyzSE6",
      "execution_count": 49,
      "outputs": [
        {
          "output_type": "execute_result",
          "data": {
            "text/plain": [
              "[array([[-0.07767099,  0.34198107, -0.43842637, -0.29889419, -0.54850346,\n",
              "         -0.54113281, -0.24503108,  0.03320142,  0.02155179, -0.08745852,\n",
              "         -0.01840074,  0.34087746, -0.35737682],\n",
              "        [ 0.34507726, -0.62111743,  0.22013172,  0.090783  , -0.00236817,\n",
              "         -0.54833903, -0.29763238,  0.50344916,  0.35688383, -0.3324045 ,\n",
              "          0.29147314,  0.2107172 ,  0.33718873],\n",
              "        [-0.35549382, -0.4047068 , -0.2711495 ,  0.42686235, -0.44549869,\n",
              "         -0.25355087,  0.51001607,  0.21122263,  0.2552473 , -0.30342943,\n",
              "          0.17043566,  0.3841893 , -0.49663421],\n",
              "        [ 0.35302675,  0.31468054,  0.2346708 , -0.07673523,  0.5176934 ,\n",
              "         -0.34590145, -0.15985014,  0.34800052, -0.34512218, -0.07082178,\n",
              "         -0.19849096, -0.67151891,  0.20616196],\n",
              "        [-0.40837324, -0.0681331 ,  0.03272463, -0.5213536 , -0.07384183,\n",
              "         -0.4140181 ,  0.16152173,  0.28455421, -0.28287962, -0.19896149,\n",
              "          0.14158437,  0.02112374, -0.46261443],\n",
              "        [-0.13179284,  0.26612751, -0.05841055,  0.42935424, -0.12878289,\n",
              "          0.24281368, -0.31758532, -0.51013342,  0.37342114, -0.19073333,\n",
              "         -0.50200235,  0.52105105, -0.14238882],\n",
              "        [ 0.05375103,  0.34923334,  0.30036236,  0.32255736,  0.152615  ,\n",
              "         -0.29049774, -0.22548316,  0.18724061, -0.00097489,  0.32379789,\n",
              "         -0.04255859,  0.25593518, -0.32646375],\n",
              "        [ 0.58837456, -0.2278061 ,  0.02358647,  0.12980506,  0.00984574,\n",
              "          0.62808409,  0.08158252, -0.39785525, -0.02814135, -0.07674542,\n",
              "          0.19392486,  0.14128614, -0.15957118],\n",
              "        [ 0.21879119,  0.13951532, -0.40310014,  0.48319202,  0.05440888,\n",
              "          0.34031399, -0.41413933, -0.50093703,  0.49435262,  0.19110249,\n",
              "         -0.6225562 ,  0.32205263,  0.35289975],\n",
              "        [ 0.53347451,  0.10812722, -0.27125321, -0.55681153, -0.60310767,\n",
              "         -0.62083557, -0.17737462,  0.52249553,  0.11658998, -0.05867954,\n",
              "          0.48953252, -0.27284574, -0.36018313],\n",
              "        [-0.00947496,  0.59991147, -0.04384692, -0.40097047,  0.36459669,\n",
              "         -0.11717005,  0.27280324, -0.31111217,  0.44094365,  0.22776635,\n",
              "         -0.13891024, -0.12536307, -0.3530166 ],\n",
              "        [-0.50040742, -0.25082939, -0.47251848, -0.19300543, -0.00412642,\n",
              "         -0.02260876, -0.57523251, -0.53799334,  0.6442421 ,  0.06563881,\n",
              "         -0.45480067, -0.01278729,  0.29181465],\n",
              "        [-0.38797315,  0.2404018 ,  0.44928234,  0.21157314, -0.48589886,\n",
              "         -0.1833222 ,  0.20458817,  0.49902226, -0.1980409 , -0.62620555,\n",
              "         -0.52874273,  0.18488965,  0.0575386 ]]),\n",
              " array([[ 0.13515577, -0.27952938, -0.11022469,  0.20107852, -0.33463756,\n",
              "          0.24651442, -0.15482333,  0.5602355 , -0.30950033, -0.2409137 ,\n",
              "          0.14428271,  0.42637527,  0.51991087],\n",
              "        [ 0.54905069, -0.53008709, -0.34605899,  0.19677193,  0.44512935,\n",
              "          0.46965831,  0.22612204,  0.29092724,  0.28023703,  0.12547613,\n",
              "         -0.00911371,  0.13426794,  0.19577106],\n",
              "        [ 0.34123724,  0.34063316,  0.01171185,  0.56333042, -0.33297606,\n",
              "         -0.32838235, -0.18113308,  0.11629295, -0.35656081,  0.49185931,\n",
              "          0.31450955, -0.33240227, -0.3154182 ],\n",
              "        [-0.02800951, -0.41885283,  0.42172175, -0.0608805 ,  0.47182287,\n",
              "          0.23209656,  0.47235429,  0.38186982,  0.50967338,  0.08928145,\n",
              "         -0.05170354,  0.30957872, -0.167071  ],\n",
              "        [-0.11211143,  0.01753082, -0.32679594,  0.25153262, -0.1350746 ,\n",
              "          0.42469939, -0.12215661,  0.53408928,  0.25654166, -0.50792558,\n",
              "          0.22543789,  0.27990115, -0.59322714],\n",
              "        [-0.17545041,  0.08659327,  0.53948539, -0.30613942,  0.4282193 ,\n",
              "         -0.01120256,  0.53461147,  0.25498009,  0.48518976, -0.15917107,\n",
              "          0.06566076, -0.05189694, -0.08183283],\n",
              "        [ 0.15130896,  0.2944939 ,  0.38997086,  0.20911952,  0.32269956,\n",
              "         -0.17638318,  0.33390138,  0.12244373, -0.12788272, -0.07154728,\n",
              "         -0.09467709, -0.04703006,  0.17566848],\n",
              "        [ 0.05257909,  0.61881132, -0.02990157, -0.41345736, -0.16098712,\n",
              "         -0.13821356,  0.27334324,  0.28210453,  0.3020996 ,  0.32722342,\n",
              "         -0.27190137, -0.27944976,  0.50696494],\n",
              "        [ 0.12100754,  0.22992924,  0.09865927,  0.30964908,  0.06301638,\n",
              "          0.32005495,  0.21634023, -0.05193912,  0.01147596, -0.16389994,\n",
              "         -0.18909838, -0.32238366,  0.49254046],\n",
              "        [-0.43270061,  0.21712767,  0.52953206,  0.34718577, -0.06152092,\n",
              "         -0.15090129,  0.01037729,  0.03489682, -0.10024846, -0.02616469,\n",
              "         -0.20369707,  0.56832991,  0.19642706],\n",
              "        [-0.40750584, -0.20118286, -0.10695091, -0.08789646,  0.12515967,\n",
              "         -0.18979282, -0.35367835,  0.57487846, -0.1826737 ,  0.26619961,\n",
              "         -0.34916959, -0.17620861,  0.16006221],\n",
              "        [ 0.15798723, -0.46526058, -0.04821114, -0.03275738,  0.2895023 ,\n",
              "         -0.39508535,  0.42212567, -0.41806413,  0.19095404,  0.4287718 ,\n",
              "         -0.53874513, -0.24222034,  0.52733517],\n",
              "        [ 0.25377124, -0.01681832,  0.45162946,  0.48928093,  0.25865086,\n",
              "          0.44959858, -0.320419  ,  0.26940213,  0.19945058,  0.1485758 ,\n",
              "          0.2145853 , -0.2608955 ,  0.15272595]]),\n",
              " array([[ 4.06831455e-01,  8.14081334e-02,  5.64240271e-01,\n",
              "         -8.56362844e-02,  2.45101614e-01, -1.40139931e-01,\n",
              "          1.93684909e-02, -2.27306977e-01, -3.59365792e-01,\n",
              "          2.97942434e-01, -4.43993665e-01, -8.63489876e-02,\n",
              "          5.37471095e-01],\n",
              "        [ 1.36710407e-01,  3.17072123e-01, -4.14991071e-01,\n",
              "          1.57757743e-01, -4.34364245e-02,  2.40645577e-01,\n",
              "         -2.07361031e-02, -6.27987600e-02, -2.48862111e-01,\n",
              "          3.27295091e-01,  9.42298465e-02, -3.35943460e-01,\n",
              "          7.85204528e-02],\n",
              "        [-4.28132599e-01,  4.36661762e-01, -1.47612215e-01,\n",
              "         -5.21271938e-01,  8.77551424e-02,  1.24657664e-01,\n",
              "          1.61585943e-01,  6.13574357e-02, -7.47664964e-03,\n",
              "          2.46403118e-01,  3.15305580e-01,  4.66573470e-01,\n",
              "         -4.20604427e-01],\n",
              "        [ 1.00056282e-01,  5.09843174e-02,  4.08514600e-01,\n",
              "         -2.73150251e-01, -5.24830296e-02, -1.82196892e-01,\n",
              "          1.80455985e-01, -1.60437807e-01,  9.29840256e-02,\n",
              "          4.59055395e-01,  2.52315986e-01,  3.69309158e-01,\n",
              "         -7.34565962e-02],\n",
              "        [ 2.42648137e-01, -1.31910576e-01,  4.49201336e-01,\n",
              "          2.31786468e-02, -1.92863273e-01, -1.84668821e-01,\n",
              "         -2.00337966e-01, -1.94062603e-01, -6.02820851e-02,\n",
              "         -2.33895493e-01, -6.12836711e-01,  3.41806849e-01,\n",
              "          6.53510079e-02],\n",
              "        [ 1.33775134e-01, -2.89226228e-02,  3.83907183e-02,\n",
              "         -1.31522315e-01,  9.16625562e-02,  9.56798649e-02,\n",
              "          1.53717617e-01,  1.71194983e-01, -4.82191967e-01,\n",
              "          4.22834515e-01, -5.08893210e-01,  2.32309162e-01,\n",
              "         -4.54726202e-01],\n",
              "        [-3.79429560e-02, -5.87363945e-01,  5.76292524e-01,\n",
              "          2.78724125e-01,  4.57466349e-01,  1.79600029e-01,\n",
              "         -1.64583905e-01, -1.23502779e-01, -3.27787548e-01,\n",
              "          3.04778334e-01,  2.17250184e-01,  4.80631536e-01,\n",
              "          3.92647223e-01],\n",
              "        [ 1.68144561e-01,  5.41821743e-01, -2.33603033e-01,\n",
              "         -4.76852136e-02, -3.52776622e-01, -1.52343768e-01,\n",
              "          4.42513072e-01, -1.31599745e-01, -2.50817606e-01,\n",
              "          4.34396163e-01, -2.27481292e-02,  5.90107202e-01,\n",
              "         -7.46606253e-02],\n",
              "        [-1.13898402e-01, -2.68504821e-01,  5.27107055e-01,\n",
              "         -2.32513733e-01,  9.99259051e-02, -2.14229609e-07,\n",
              "          5.82893367e-01, -2.23379536e-01,  1.79368598e-01,\n",
              "          5.49720164e-01, -6.39881464e-01,  1.62061484e-01,\n",
              "          2.45461876e-02],\n",
              "        [ 5.19616957e-01,  2.03283116e-01,  9.09278100e-02,\n",
              "          5.06810489e-02,  3.37346762e-01, -3.93220334e-02,\n",
              "         -6.21051826e-01,  1.12589995e-03, -2.09643349e-01,\n",
              "         -1.96266306e-01,  5.87920451e-01, -2.78710328e-01,\n",
              "         -5.34809262e-03],\n",
              "        [-2.02938156e-01,  5.45019031e-01,  3.21784509e-01,\n",
              "          3.47975094e-01,  2.83224982e-01, -7.50884502e-02,\n",
              "         -2.35858976e-01, -7.54653612e-02, -2.79320252e-02,\n",
              "         -2.06633385e-01,  1.12161817e-01,  4.24064086e-03,\n",
              "          1.78613622e-01],\n",
              "        [-4.87517817e-01,  2.24049103e-01, -2.48549729e-01,\n",
              "          2.01798749e-02, -2.84896279e-01, -2.01989386e-01,\n",
              "          1.29867289e-02,  1.93367235e-02, -2.67748463e-02,\n",
              "          2.46691175e-01, -4.62860380e-01,  2.54693896e-01,\n",
              "          3.09432934e-01],\n",
              "        [ 4.37553901e-01,  2.18404317e-01,  3.75111012e-01,\n",
              "          5.77020958e-01,  2.66890548e-01, -2.22155284e-01,\n",
              "         -4.53828567e-01, -1.95158209e-01, -7.94008106e-02,\n",
              "         -2.81553484e-01,  6.05261172e-01, -4.64206340e-01,\n",
              "          6.64941504e-01]]),\n",
              " array([[ 3.03440570e-01, -2.39049772e-01,  7.21086813e-01],\n",
              "        [-4.60639544e-01, -1.11374004e-01,  1.82229135e-01],\n",
              "        [ 4.09332298e-01, -5.78433746e-02, -6.38296344e-01],\n",
              "        [-1.03825703e-01, -1.51474220e-01,  3.96490043e-01],\n",
              "        [ 5.72628068e-01, -6.88667996e-01, -8.34700990e-01],\n",
              "        [ 2.51726351e-06,  1.63702289e-01, -3.54156202e-01],\n",
              "        [-7.78312849e-02,  5.26064538e-01, -2.80268984e-01],\n",
              "        [ 2.73684051e-01,  2.72428574e-02, -3.62447256e-01],\n",
              "        [ 9.02049054e-03,  4.11492674e-01,  3.76871042e-01],\n",
              "        [ 6.86652108e-02,  3.46279685e-01, -9.31219362e-02],\n",
              "        [-5.09932270e-01, -9.48281443e-02,  4.06143097e-01],\n",
              "        [-3.55273017e-01,  6.01069304e-01, -5.17068581e-01],\n",
              "        [ 5.19588467e-01, -5.18712110e-01,  5.16904790e-01]])]"
            ]
          },
          "metadata": {},
          "execution_count": 49
        }
      ]
    },
    {
      "cell_type": "code",
      "source": [
        ""
      ],
      "metadata": {
        "id": "uylnhDd0z30P"
      },
      "id": "uylnhDd0z30P",
      "execution_count": 49,
      "outputs": []
    }
  ],
  "metadata": {
    "kernelspec": {
      "display_name": "Python 3",
      "language": "python",
      "name": "python3"
    },
    "language_info": {
      "codemirror_mode": {
        "name": "ipython",
        "version": 3
      },
      "file_extension": ".py",
      "mimetype": "text/x-python",
      "name": "python",
      "nbconvert_exporter": "python",
      "pygments_lexer": "ipython3",
      "version": "3.8.3"
    },
    "colab": {
      "name": "200968174_ML_LAB_WEEK6_Ex1.ipynb",
      "provenance": [],
      "collapsed_sections": []
    }
  },
  "nbformat": 4,
  "nbformat_minor": 5
}