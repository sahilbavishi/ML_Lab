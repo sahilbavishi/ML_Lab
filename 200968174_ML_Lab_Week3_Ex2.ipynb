{
 "cells": [
  {
   "cell_type": "code",
   "execution_count": 1,
   "metadata": {},
   "outputs": [],
   "source": [
    "import pandas as pd\n",
    "import numpy as np\n",
    "import matplotlib.pyplot as ply\n",
    "import seaborn as sns"
   ]
  },
  {
   "cell_type": "code",
   "execution_count": 2,
   "metadata": {},
   "outputs": [
    {
     "data": {
      "text/html": [
       "<div>\n",
       "<style scoped>\n",
       "    .dataframe tbody tr th:only-of-type {\n",
       "        vertical-align: middle;\n",
       "    }\n",
       "\n",
       "    .dataframe tbody tr th {\n",
       "        vertical-align: top;\n",
       "    }\n",
       "\n",
       "    .dataframe thead th {\n",
       "        text-align: right;\n",
       "    }\n",
       "</style>\n",
       "<table border=\"1\" class=\"dataframe\">\n",
       "  <thead>\n",
       "    <tr style=\"text-align: right;\">\n",
       "      <th></th>\n",
       "      <th>Unnamed: 0</th>\n",
       "      <th>Clothing ID</th>\n",
       "      <th>Age</th>\n",
       "      <th>Title</th>\n",
       "      <th>Review Text</th>\n",
       "      <th>Rating</th>\n",
       "      <th>Positive Feedback Count</th>\n",
       "      <th>Division Name</th>\n",
       "      <th>Department Name</th>\n",
       "      <th>Category</th>\n",
       "      <th>Recommended IND</th>\n",
       "    </tr>\n",
       "  </thead>\n",
       "  <tbody>\n",
       "    <tr>\n",
       "      <th>0</th>\n",
       "      <td>0</td>\n",
       "      <td>767</td>\n",
       "      <td>33</td>\n",
       "      <td>NaN</td>\n",
       "      <td>Absolutely wonderful - silky and sexy and comf...</td>\n",
       "      <td>4</td>\n",
       "      <td>0</td>\n",
       "      <td>Initmates</td>\n",
       "      <td>Intimate</td>\n",
       "      <td>Intimates</td>\n",
       "      <td>1</td>\n",
       "    </tr>\n",
       "    <tr>\n",
       "      <th>1</th>\n",
       "      <td>1</td>\n",
       "      <td>1080</td>\n",
       "      <td>34</td>\n",
       "      <td>NaN</td>\n",
       "      <td>Love this dress!  it's sooo pretty.  i happene...</td>\n",
       "      <td>5</td>\n",
       "      <td>4</td>\n",
       "      <td>General</td>\n",
       "      <td>Dresses</td>\n",
       "      <td>Dresses</td>\n",
       "      <td>1</td>\n",
       "    </tr>\n",
       "    <tr>\n",
       "      <th>2</th>\n",
       "      <td>2</td>\n",
       "      <td>1077</td>\n",
       "      <td>60</td>\n",
       "      <td>Some major design flaws</td>\n",
       "      <td>I had such high hopes for this dress and reall...</td>\n",
       "      <td>3</td>\n",
       "      <td>0</td>\n",
       "      <td>General</td>\n",
       "      <td>Dresses</td>\n",
       "      <td>Dresses</td>\n",
       "      <td>0</td>\n",
       "    </tr>\n",
       "    <tr>\n",
       "      <th>3</th>\n",
       "      <td>3</td>\n",
       "      <td>1049</td>\n",
       "      <td>50</td>\n",
       "      <td>My favorite buy!</td>\n",
       "      <td>I love, love, love this jumpsuit. it's fun, fl...</td>\n",
       "      <td>5</td>\n",
       "      <td>0</td>\n",
       "      <td>General Petite</td>\n",
       "      <td>Bottoms</td>\n",
       "      <td>Pants</td>\n",
       "      <td>1</td>\n",
       "    </tr>\n",
       "    <tr>\n",
       "      <th>4</th>\n",
       "      <td>4</td>\n",
       "      <td>847</td>\n",
       "      <td>47</td>\n",
       "      <td>Flattering shirt</td>\n",
       "      <td>This shirt is very flattering to all due to th...</td>\n",
       "      <td>5</td>\n",
       "      <td>6</td>\n",
       "      <td>General</td>\n",
       "      <td>Tops</td>\n",
       "      <td>Blouses</td>\n",
       "      <td>1</td>\n",
       "    </tr>\n",
       "  </tbody>\n",
       "</table>\n",
       "</div>"
      ],
      "text/plain": [
       "   Unnamed: 0  Clothing ID  Age                    Title  \\\n",
       "0           0          767   33                      NaN   \n",
       "1           1         1080   34                      NaN   \n",
       "2           2         1077   60  Some major design flaws   \n",
       "3           3         1049   50         My favorite buy!   \n",
       "4           4          847   47         Flattering shirt   \n",
       "\n",
       "                                         Review Text  Rating  \\\n",
       "0  Absolutely wonderful - silky and sexy and comf...       4   \n",
       "1  Love this dress!  it's sooo pretty.  i happene...       5   \n",
       "2  I had such high hopes for this dress and reall...       3   \n",
       "3  I love, love, love this jumpsuit. it's fun, fl...       5   \n",
       "4  This shirt is very flattering to all due to th...       5   \n",
       "\n",
       "   Positive Feedback Count   Division Name Department Name   Category  \\\n",
       "0                        0       Initmates        Intimate  Intimates   \n",
       "1                        4         General         Dresses    Dresses   \n",
       "2                        0         General         Dresses    Dresses   \n",
       "3                        0  General Petite         Bottoms      Pants   \n",
       "4                        6         General            Tops    Blouses   \n",
       "\n",
       "   Recommended IND  \n",
       "0                1  \n",
       "1                1  \n",
       "2                0  \n",
       "3                1  \n",
       "4                1  "
      ]
     },
     "execution_count": 2,
     "metadata": {},
     "output_type": "execute_result"
    }
   ],
   "source": [
    "df=pd.read_csv('WomenReviews.csv')\n",
    "df.head()"
   ]
  },
  {
   "cell_type": "markdown",
   "metadata": {},
   "source": [
    "### Q5:\n",
    "### a : Find any null values are present or not, If present remove those data."
   ]
  },
  {
   "cell_type": "code",
   "execution_count": 3,
   "metadata": {},
   "outputs": [],
   "source": [
    "df = df.dropna()"
   ]
  },
  {
   "cell_type": "markdown",
   "metadata": {},
   "source": [
    "### b : Remove the datathat have less than 5 reviews."
   ]
  },
  {
   "cell_type": "code",
   "execution_count": 4,
   "metadata": {},
   "outputs": [],
   "source": [
    "df['number'] = 0\n",
    "\n",
    "for cloth in df['Clothing ID'].unique():\n",
    "    df.loc[df['Clothing ID']==cloth, 'number'] = df['Clothing ID'].value_counts()[cloth]\n",
    "    \n",
    "df = df[df.number>=5]"
   ]
  },
  {
   "cell_type": "markdown",
   "metadata": {},
   "source": [
    "### c : Clean the data and remove the special characters and replace the contractions with its expansion. Convert the uppercase character to lower case.Also, remove the punctuations."
   ]
  },
  {
   "cell_type": "code",
   "execution_count": 5,
   "metadata": {},
   "outputs": [],
   "source": [
    "contractions = {\n",
    "\"a'ight\":\"alright\",\n",
    "\"ain't\":\"are not\",\n",
    "\"amn't\":\"am not\",\n",
    "\"aren't\":\"are not\",\n",
    "\"can't\":\"cannot\",\n",
    "\"'cause\": \"because\",\n",
    "\"could've\":\"could have\",\n",
    "\"couldn't\":\"could not\",\n",
    "\"couldn't've\":\"could not have\",\n",
    "\"daren't\":\"dare not\",\n",
    "\"daresn't\":\"dare not\",\n",
    "\"dasn't\":\"dare not\",\n",
    "\"didn't\":\"did not\",\n",
    "\"doesn't\":\"does not\",\n",
    "\"don't\":\"do not\",\n",
    "\"everybody's\":\"everybody is\",\n",
    "\"everyone's\":\"everyone is\",\n",
    "\"giv'n\":\"given\",\n",
    "\"gonna\":\"going to\",\n",
    "\"gon't\":\"go not\", \n",
    "\"gotta\":\"got to\",\n",
    "\"hadn't\":\"had not\",\n",
    "\"had've\":\"had have\",\n",
    "\"hasn't\":\"has not\",\n",
    "\"haven't\":\"have not\",\n",
    "\"he'd\":\"he had\", \n",
    "\"he'll\":\"he will\",\n",
    "\"he's\":\"he is\",\n",
    "\"here's\":\"here is\",\n",
    "\"how'd\":\"how did\",\n",
    "\"how'll\":\"how will\",\n",
    "\"how're\":\"how are\",\n",
    "\"how's\":\"how is\",\n",
    "\"I'd\":\"I had\",\n",
    "\"I'd've\":\"I would have\",\n",
    "\"I'd'nt\":\"I would not\",\n",
    "\"I'd'nt've\":\"I would not have\",\n",
    "\"I'll\":\"I will\",\n",
    "\"I'm\":\"I am\",\n",
    "\"I've\":\"I have\",\n",
    "\"isn't\":\"is not\",\n",
    "\"it'd\":\"it would\",\n",
    "\"it'll\":\"it will\",\n",
    "\"it's\":\"it is\",\n",
    "\"let's\":\"let us\",\n",
    "\"ma'am\":\"madam\",\n",
    "\"mayn't\":\"may not\",\n",
    "\"may've\":\"may have\",\n",
    "\"mightn't\":\"might not\",\n",
    "\"might've\":\"might have\",\n",
    "\"mustn't\":\"must not\",\n",
    "\"mustn't've\":\"must not have\",\n",
    "\"must've\":\"must have\",\n",
    "\"needn't\":\"need not\",\n",
    "\"needn't've\":\"need not have\",\n",
    "\"o'clock\":\"of the clock\",\n",
    "\"oughtn't\":\"ought not\",\n",
    "\"oughtn't've\":\"ought not have\",\n",
    "\"shan't\":\"shall not\",\n",
    "\"she'd\":\"she would\",\n",
    "\"she'll\":\"she will\",\n",
    "\"she's\":\"she is\",\n",
    "\"should've\":\"should have\",\n",
    "\"shouldn't\":\"should not\",\n",
    "\"shouldn't've\":\"should not have\",\n",
    "\"somebody's\":\"somebody is\",\n",
    "\"someone's\":\"someone is\",\n",
    "\"something's\":\"something is\",\n",
    "\"so're\":\"so are\",\n",
    "\"so’s\":\"so is\",\n",
    "\"so’ve\":\"so have\",\n",
    "\"that'll\":\"that will\",\n",
    "\"that're\":\"that are\",\n",
    "\"that's\":\"that is\",\n",
    "\"that'd\":\"that would\",\n",
    "\"there'd\":\"there would\",\n",
    "\"there'll\":\"there will\",\n",
    "\"there're\":\"there are\",\n",
    "\"there's\":\"there is\",\n",
    "\"these're\":\"these are\",\n",
    "\"these've\":\"these have\",\n",
    "\"they'd\":\"they would\",\n",
    "\"they'll\":\"they will\",\n",
    "\"they're\":\"they are\",\n",
    "\"they've\":\"they have\",\n",
    "\"this's\":\"this is\",\n",
    "\"those're\":\"those are\",\n",
    "\"those've\":\"those have\",\n",
    "\"to've\":\"to have\",\n",
    "\"wasn't\":\"was not\",\n",
    "\"we'd\":\"we would\",\n",
    "\"we'd've\":\"we would have\",\n",
    "\"we'll\":\"we will\",\n",
    "\"we're\":\"we are\",\n",
    "\"we've\":\"we have\",\n",
    "\"weren't\":\"were not\",\n",
    "\"what'd\":\"what did\",\n",
    "\"what'll\":\"what will\",\n",
    "\"what're\":\"what are\",\n",
    "\"what's\":\"what is\",\n",
    "\"what've\":\"what have\",\n",
    "\"when's\":\"when is\",\n",
    "\"where'd\":\"where did\",\n",
    "\"where'll\":\"where will\",\n",
    "\"where're\":\"where are\",\n",
    "\"where's\":\"where is\",\n",
    "\"where've\":\"where have\",\n",
    "\"which'd\":\"which would\",\n",
    "\"which'll\":\"which will\",\n",
    "\"which're\":\"which are\",\n",
    "\"which's\":\"which is\",\n",
    "\"which've\":\"which have\",\n",
    "\"who'd\":\"who would\",\n",
    "\"who'd've\":\"who would have\",\n",
    "\"who'll\":\"who will\",\n",
    "\"who're\":\"who are\",\n",
    "\"who's\":\"who is\",\n",
    "\"who've\":\"who have\",\n",
    "\"why'd\":\"why did\",\n",
    "\"why're\":\"why are\",\n",
    "\"why's\":\"why is\",\n",
    "\"won't\":\"will not\",\n",
    "\"would've\":\"would have\",\n",
    "\"wouldn't\":\"would not\",\n",
    "\"wouldn't've\":\"would not have\",\n",
    "\"y'at\":\"you at\",\n",
    "\"yes’m\":\"yes madam\",\n",
    "\"you'd\":\"you would\",\n",
    "\"you'll\":\"you will\",\n",
    "\"you're\":\"you are\",\n",
    "\"you've\":\"you have\"}"
   ]
  },
  {
   "cell_type": "code",
   "execution_count": 6,
   "metadata": {},
   "outputs": [],
   "source": [
    "def cont_to_exp(x): #coverting contraction to expression\n",
    "    if type(x) is str:\n",
    "        x = x.replace('\\\\','')\n",
    "        for key in contractions:\n",
    "            value = contractions[key]\n",
    "            x = x.replace(key, value)\n",
    "        return x\n",
    "    return x"
   ]
  },
  {
   "cell_type": "code",
   "execution_count": 7,
   "metadata": {},
   "outputs": [],
   "source": [
    "df['Review Text'] = df['Review Text'].apply(lambda x:cont_to_exp(x))"
   ]
  },
  {
   "cell_type": "code",
   "execution_count": 8,
   "metadata": {},
   "outputs": [],
   "source": [
    "def upper_to_lower(x): #coverting uppercase to lowercase\n",
    "    if type(x) is str:\n",
    "        return x.lower()\n",
    "    return x"
   ]
  },
  {
   "cell_type": "code",
   "execution_count": 9,
   "metadata": {},
   "outputs": [],
   "source": [
    "df['Review Text'] = df['Review Text'].apply(lambda x:upper_to_lower(x))"
   ]
  },
  {
   "cell_type": "code",
   "execution_count": 10,
   "metadata": {},
   "outputs": [],
   "source": [
    "import string\n",
    "def remove_punctuations(text): #removing punctuations\n",
    "    if type(text) is str:\n",
    "        for p in string.punctuation:\n",
    "            text = text.replace(p, '')\n",
    "        return text\n",
    "    return text "
   ]
  },
  {
   "cell_type": "code",
   "execution_count": 11,
   "metadata": {},
   "outputs": [],
   "source": [
    "df['Review Text'] = df['Review Text'].apply(lambda x:remove_punctuations(x))"
   ]
  },
  {
   "cell_type": "code",
   "execution_count": 12,
   "metadata": {},
   "outputs": [],
   "source": [
    "def remove_special_chars(text):#removing special characters\n",
    "    special_chars = '''!()-[]{};:'\"\\,<>./?@#$%^&*_~'''\n",
    "    if type(text) is str:\n",
    "        for p in special_chars:\n",
    "            text = text.replace(p, '')\n",
    "        return text\n",
    "    return text"
   ]
  },
  {
   "cell_type": "code",
   "execution_count": 13,
   "metadata": {},
   "outputs": [],
   "source": [
    "df['Review Text'] = df['Review Text'].apply(lambda x:remove_special_chars(x))"
   ]
  },
  {
   "cell_type": "code",
   "execution_count": 14,
   "metadata": {},
   "outputs": [],
   "source": [
    "from textblob import TextBlob\n",
    "df['polarity_title'] = df['Title'].apply(lambda x: TextBlob(x).sentiment.polarity)\n",
    "df['polarity_review'] = df['Review Text'].apply(lambda x: TextBlob(x).sentiment.polarity)"
   ]
  },
  {
   "cell_type": "markdown",
   "metadata": {},
   "source": [
    "### Q6: Separate the columns into dependent and independent variables (or features and labels). Then you split those variables into train and test sets (80:20)."
   ]
  },
  {
   "cell_type": "code",
   "execution_count": 15,
   "metadata": {},
   "outputs": [],
   "source": [
    "df = df.drop(columns=['Unnamed: 0', 'Clothing ID', 'number', 'Review Text', 'Title', 'Department Name', 'Division Name', 'Category'])"
   ]
  },
  {
   "cell_type": "code",
   "execution_count": 16,
   "metadata": {},
   "outputs": [],
   "source": [
    "x = df.drop(columns=['Recommended IND'])\n",
    "y = df['Recommended IND']"
   ]
  },
  {
   "cell_type": "code",
   "execution_count": 17,
   "metadata": {},
   "outputs": [],
   "source": [
    "from sklearn.model_selection import train_test_split\n",
    "x_train, x_test, y_train, y_test = train_test_split(x, y, train_size=0.8, random_state=105)"
   ]
  },
  {
   "cell_type": "code",
   "execution_count": 18,
   "metadata": {},
   "outputs": [],
   "source": [
    "numerical_cols = [cname for cname in x.columns if x[cname].dtype in ['int64', 'float64']]\n",
    "\n",
    "categorical_cols = [cname for cname in x.columns if x[cname].dtype == 'object']"
   ]
  },
  {
   "cell_type": "code",
   "execution_count": 19,
   "metadata": {},
   "outputs": [],
   "source": [
    "from sklearn.pipeline import Pipeline\n",
    "from sklearn.compose import ColumnTransformer\n",
    "from sklearn.preprocessing import RobustScaler\n",
    "from sklearn.preprocessing import OneHotEncoder\n",
    "from sklearn.feature_extraction.text import CountVectorizer\n",
    "\n",
    "numerical_transformer = Pipeline(steps = [\n",
    "    ('scaler', RobustScaler())\n",
    "])\n",
    "\n",
    "categorical_transformer = Pipeline(steps=[\n",
    "    ('vectorizer', CountVectorizer(stop_words='english', ngram_range=(1,2), max_features=10)),\n",
    "    ('onehot', OneHotEncoder(handle_unknown='ignore'))\n",
    "])\n",
    "\n",
    "preprocessor = ColumnTransformer(\n",
    "    transformers=[\n",
    "        ('num', numerical_transformer, numerical_cols),\n",
    "        ('cat', categorical_transformer, categorical_cols),\n",
    "      ])"
   ]
  },
  {
   "cell_type": "markdown",
   "metadata": {},
   "source": [
    "### Q7: Apply the Naïve Bayes Classification Algorithm on Sentiment category topredict if item is recommended"
   ]
  },
  {
   "cell_type": "code",
   "execution_count": 20,
   "metadata": {},
   "outputs": [],
   "source": [
    "from sklearn.naive_bayes import GaussianNB\n",
    "model = GaussianNB()\n",
    "\n",
    "pipe = Pipeline(steps=[('preprocessor', preprocessor), \n",
    "                              ('model', model)])\n",
    "\n",
    "pipe.fit(x_train, y_train)\n",
    "\n",
    "y_pred = pipe.predict(x_test)\n",
    "\n"
   ]
  },
  {
   "cell_type": "code",
   "execution_count": 21,
   "metadata": {},
   "outputs": [
    {
     "data": {
      "text/plain": [
       "0.9247487095897854"
      ]
     },
     "execution_count": 21,
     "metadata": {},
     "output_type": "execute_result"
    }
   ],
   "source": [
    "pipe.score(x_test, y_test)"
   ]
  },
  {
   "cell_type": "markdown",
   "metadata": {},
   "source": [
    "### Q8: Tabulate accuracy in terms of precision recall and F1 score."
   ]
  },
  {
   "cell_type": "code",
   "execution_count": 22,
   "metadata": {},
   "outputs": [],
   "source": [
    "from sklearn.metrics import accuracy_score, f1_score, recall_score, precision_score\n",
    "acc = accuracy_score(y_test,y_pred)\n",
    "prec = precision_score(y_test, y_pred)\n",
    "recall = recall_score(y_test, y_pred)\n",
    "f1 = f1_score(y_test, y_pred)"
   ]
  },
  {
   "cell_type": "code",
   "execution_count": 23,
   "metadata": {},
   "outputs": [
    {
     "name": "stdout",
     "output_type": "stream",
     "text": [
      "Accuary =  0.9247487095897854\n",
      "Precision =  0.976890756302521\n",
      "Recall =  0.9296901032989003\n",
      "F1 score =  0.952706163564965\n"
     ]
    }
   ],
   "source": [
    "print('Accuary = ', acc)\n",
    "print('Precision = ', prec)\n",
    "print('Recall = ', recall)\n",
    "print('F1 score = ', f1)"
   ]
  },
  {
   "cell_type": "code",
   "execution_count": null,
   "metadata": {},
   "outputs": [],
   "source": []
  }
 ],
 "metadata": {
  "kernelspec": {
   "display_name": "Python 3",
   "language": "python",
   "name": "python3"
  },
  "language_info": {
   "codemirror_mode": {
    "name": "ipython",
    "version": 3
   },
   "file_extension": ".py",
   "mimetype": "text/x-python",
   "name": "python",
   "nbconvert_exporter": "python",
   "pygments_lexer": "ipython3",
   "version": "3.8.3"
  }
 },
 "nbformat": 4,
 "nbformat_minor": 5
}
