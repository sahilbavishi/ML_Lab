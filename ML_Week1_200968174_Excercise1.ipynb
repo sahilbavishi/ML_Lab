{
 "cells": [
  {
   "cell_type": "markdown",
   "metadata": {},
   "source": [
    "### Sahil Bavishi\n",
    "### Excercise 1"
   ]
  },
  {
   "cell_type": "code",
   "execution_count": 1,
   "metadata": {},
   "outputs": [],
   "source": [
    "import pandas as pd\n",
    "import numpy as np\n",
    "import matplotlib.pyplot as plt"
   ]
  },
  {
   "cell_type": "markdown",
   "metadata": {},
   "source": [
    "### Q1: Write a user defined function ‘myFnLinReg(x,y)’to perform Simple Linear Regression given one predictor attribute and one response attribute. The function should return the coefficients of the straight line."
   ]
  },
  {
   "cell_type": "code",
   "execution_count": 2,
   "metadata": {},
   "outputs": [],
   "source": [
    "def myFnLinReg(x, y):\n",
    "    theta = np.ones((2,1))\n",
    "    N = len(x)\n",
    "    x_mean = x.mean()\n",
    "    y_mean = y.mean()\n",
    "    theta_num= ((x - x_mean) * (y - y_mean)).sum()\n",
    "    theta_den = ((x - x_mean)**2).sum()\n",
    "    theta[1] = theta_num / theta_den\n",
    "    theta[0] = y_mean - (theta[1] * x_mean)\n",
    "    return theta"
   ]
  },
  {
   "cell_type": "markdown",
   "metadata": {},
   "source": [
    "### Q2: Use mtcars data set and consider the attributes mpg and weight. Split data into train and test sets (70, 30). Put training data set to ‘myFnLinReg(x,y)’ to build a linear regression model to predict mpg given the weight of the car."
   ]
  },
  {
   "cell_type": "code",
   "execution_count": 3,
   "metadata": {},
   "outputs": [],
   "source": [
    "df = pd.read_csv('mtcars.csv')\n",
    "new_df = df.sample(frac=0.7)\n",
    "new_df2 = df.drop(new_df.index)\n",
    "x = df['wt']\n",
    "y = df['mpg']\n",
    "x_train = new_df['wt']\n",
    "y_train = new_df['mpg']\n",
    "x_test = new_df2['wt']\n",
    "y_test = new_df2['mpg']\n",
    "theta = myFnLinReg(x_train, y_train)"
   ]
  },
  {
   "cell_type": "markdown",
   "metadata": {},
   "source": [
    "### Q3: What is the mpg of a car, whose weight is 6.7? "
   ]
  },
  {
   "cell_type": "code",
   "execution_count": 4,
   "metadata": {},
   "outputs": [
    {
     "name": "stdout",
     "output_type": "stream",
     "text": [
      "[1.24403664]  is the mpg\n"
     ]
    }
   ],
   "source": [
    "[1, 6.7] @ theta\n",
    "print([1, 6.7] @ theta, ' is the mpg')"
   ]
  },
  {
   "cell_type": "markdown",
   "metadata": {},
   "source": [
    "### Q4)Compute and print accuracy measures such as RMSE and R2 for the test set."
   ]
  },
  {
   "cell_type": "code",
   "execution_count": 5,
   "metadata": {},
   "outputs": [],
   "source": [
    "def corr_coef(x_test, y_test, m, c):\n",
    "    y_pred = c + m * x_test\n",
    "    SSE = np.subtract(np.array(y_test), np.array(y_pred)) ** 2\n",
    "    SSE = SSE.sum()\n",
    "    SST = np.subtract(np.array(y_test), y_test.mean()) ** 2\n",
    "    SST = SST.sum()\n",
    "    R = 1 - (SSE/SST)\n",
    "    return R"
   ]
  },
  {
   "cell_type": "code",
   "execution_count": 6,
   "metadata": {},
   "outputs": [],
   "source": [
    "def rmse(x_test, y_test, m, c):\n",
    "    rmse = 0\n",
    "    n = len(x_test)\n",
    "    y_pred=  c + m* x_test\n",
    "    rmse = np.subtract(np.array(y_pred), np.array(y_test))**2\n",
    "    rmse = rmse.sum()\n",
    "    rmse = np.sqrt(rmse/n)\n",
    "    return rmse"
   ]
  },
  {
   "cell_type": "code",
   "execution_count": 7,
   "metadata": {},
   "outputs": [
    {
     "name": "stdout",
     "output_type": "stream",
     "text": [
      "Root mean square error is  3.016991723068627\n",
      "Correlation coefficient:  0.6221083220728028\n"
     ]
    }
   ],
   "source": [
    "rsme = rmse(x_test, y_test, theta[1], theta[0])\n",
    "print('Root mean square error is ', rsme)\n",
    "R = corr_coef(x_test, y_test, theta[1] , theta[0])\n",
    "print('Correlation coefficient: ', R)"
   ]
  },
  {
   "cell_type": "code",
   "execution_count": 8,
   "metadata": {},
   "outputs": [
    {
     "data": {
      "image/png": "[encoded data removed]",
      "text/plain": [
       "<Figure size 432x288 with 1 Axes>"
      ]
     },
     "metadata": {
      "needs_background": "light"
     },
     "output_type": "display_data"
    }
   ],
   "source": [
    "plt.scatter(x,y)\n",
    "a = [x for x in np.arange(0,6)]\n",
    "b = theta[1] * np.array(a) + theta[0]\n",
    "plt.plot(a,b)\n",
    "plt.show()"
   ]
  },
  {
   "cell_type": "markdown",
   "metadata": {},
   "source": [
    "### Q5: Apply the stochastic gradient descent and mini batch gradient descent algorithms to enhance the accuracy and visualize the cost function."
   ]
  },
  {
   "cell_type": "markdown",
   "metadata": {},
   "source": [
    "### BATCH GRADIENT DESCENT"
   ]
  },
  {
   "cell_type": "code",
   "execution_count": 9,
   "metadata": {},
   "outputs": [],
   "source": [
    "X1 = np.array(x_train.values)\n",
    "y = np.array(y_train.values)\n",
    "X1 = X1.reshape([X1.size, 1])\n",
    "x = np.hstack([np.ones((X1[:,0].size, 1)), X1])"
   ]
  },
  {
   "cell_type": "code",
   "execution_count": 10,
   "metadata": {},
   "outputs": [],
   "source": [
    "def gradientDescent(x, y):\n",
    "    theta2 = np.zeros((2,1))\n",
    "    temp = np.zeros((2,1))\n",
    "    alpha = 0.000001\n",
    "    iteration = 1000000\n",
    "    iters = np.ones((iteration,1))\n",
    "    m = np.size(y)\n",
    "    # gradient descend \n",
    "    J_history = np.zeros([iteration, 1])\n",
    "\n",
    "    for iter in range(0, iteration):\n",
    "        error = (x @ theta2) - y\n",
    "        for j in range(0,2):\n",
    "            temp[j] = theta2[j] - ((alpha / m) * np.sum(error @ x[:, j]))\n",
    "        theta2 = temp\n",
    "        J_history[iter] = (1 / (2 * m)) * (np.sum(((x @ theta2) - y) ** 2))\n",
    "        iters[iter] = iter\n",
    "    return theta2, J_history, iters"
   ]
  },
  {
   "cell_type": "code",
   "execution_count": 11,
   "metadata": {},
   "outputs": [
    {
     "data": {
      "text/plain": [
       "array([[36.30328143],\n",
       "       [-5.40478748]])"
      ]
     },
     "execution_count": 11,
     "metadata": {},
     "output_type": "execute_result"
    }
   ],
   "source": [
    "theta2, loss, iters = gradientDescent(x, y)\n",
    "theta2"
   ]
  },
  {
   "cell_type": "code",
   "execution_count": 12,
   "metadata": {},
   "outputs": [
    {
     "data": {
      "image/png": "[encoded data removed]",
      "text/plain": [
       "<Figure size 432x288 with 1 Axes>"
      ]
     },
     "metadata": {
      "needs_background": "light"
     },
     "output_type": "display_data"
    }
   ],
   "source": [
    "plt.plot(iters, loss)\n",
    "plt.ylabel('loss')\n",
    "plt.xlabel('iterations')\n",
    "plt.grid()\n",
    "plt.show()"
   ]
  },
  {
   "cell_type": "code",
   "execution_count": 13,
   "metadata": {
    "scrolled": false
   },
   "outputs": [
    {
     "name": "stdout",
     "output_type": "stream",
     "text": [
      "Correlation coefficient:  0.6894054101809015\n"
     ]
    }
   ],
   "source": [
    "R = corr_coef(x_test, y_test, theta2[1] , theta2[0])\n",
    "print('Correlation coefficient: ', R)"
   ]
  },
  {
   "cell_type": "markdown",
   "metadata": {},
   "source": [
    "The batch Gradient Descent provides a greater R-squared value than the one we got above through using the formula"
   ]
  },
  {
   "cell_type": "markdown",
   "metadata": {},
   "source": [
    "### Stochastic Gradient Desent"
   ]
  },
  {
   "cell_type": "code",
   "execution_count": 35,
   "metadata": {},
   "outputs": [],
   "source": [
    "import random\n",
    "def gradientDescent(x, y):\n",
    "    theta3 = theta2\n",
    "    temp = np.zeros((2,1))\n",
    "    alpha = 0.000001\n",
    "    iteration = 200000\n",
    "    iters = np.ones((iteration,1))\n",
    "    m = np.size(y)\n",
    "    # gradient descend \n",
    "    J_history = np.zeros([iteration, 1])\n",
    "\n",
    "    for iter in range(0, iteration):\n",
    "        r = random.randint(0,21)\n",
    "        error = (x[r] @ theta3) - y\n",
    "        for j in range(0,2):\n",
    "            temp[j] = theta3[j] - ((alpha / m) * np.sum(error @ x[:, j]))\n",
    "        theta3 = temp\n",
    "        J_history[iter] = (1 / (2 * m)) * (np.sum(((x @ theta3) - y) ** 2))\n",
    "        iters[iter] = iter\n",
    "    return theta3, J_history, iters"
   ]
  },
  {
   "cell_type": "code",
   "execution_count": 36,
   "metadata": {},
   "outputs": [
    {
     "data": {
      "text/plain": [
       "array([[36.6179139],\n",
       "       [-5.5029296]])"
      ]
     },
     "execution_count": 36,
     "metadata": {},
     "output_type": "execute_result"
    }
   ],
   "source": [
    "theta3, loss, iters = gradientDescent(x, y)\n",
    "theta3"
   ]
  },
  {
   "cell_type": "code",
   "execution_count": 37,
   "metadata": {},
   "outputs": [
    {
     "data": {
      "image/png": "[encoded data removed]",
      "text/plain": [
       "<Figure size 432x288 with 1 Axes>"
      ]
     },
     "metadata": {
      "needs_background": "light"
     },
     "output_type": "display_data"
    }
   ],
   "source": [
    "plt.plot(iters, loss)\n",
    "plt.ylabel('loss')\n",
    "plt.xlabel('iterations')\n",
    "plt.grid()\n",
    "plt.show()"
   ]
  },
  {
   "cell_type": "code",
   "execution_count": 38,
   "metadata": {},
   "outputs": [
    {
     "name": "stdout",
     "output_type": "stream",
     "text": [
      "Correlation coefficient:  0.6845111322236997\n"
     ]
    }
   ],
   "source": [
    "R = corr_coef(x_test, y_test, theta3[1] , theta3[0])\n",
    "print('Correlation coefficient: ', R)"
   ]
  },
  {
   "cell_type": "markdown",
   "metadata": {},
   "source": [
    "There is an increase in the value of R-squared thereby enhancing the model, The value of the cost function looks like it's increasing however its within a range of 10 units which is negligible. "
   ]
  },
  {
   "cell_type": "code",
   "execution_count": null,
   "metadata": {},
   "outputs": [],
   "source": []
  }
 ],
 "metadata": {
  "kernelspec": {
   "display_name": "Python 3",
   "language": "python",
   "name": "python3"
  },
  "language_info": {
   "codemirror_mode": {
    "name": "ipython",
    "version": 3
   },
   "file_extension": ".py",
   "mimetype": "text/x-python",
   "name": "python",
   "nbconvert_exporter": "python",
   "pygments_lexer": "ipython3",
   "version": "3.8.3"
  }
 },
 "nbformat": 4,
 "nbformat_minor": 4
}
