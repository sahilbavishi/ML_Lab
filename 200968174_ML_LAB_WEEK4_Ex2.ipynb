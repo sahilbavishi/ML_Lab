{
 "cells": [
  {
   "cell_type": "code",
   "execution_count": 1,
   "metadata": {},
   "outputs": [],
   "source": [
    "import pandas as pd\n",
    "import numpy as np\n",
    "import seaborn as sns\n",
    "import matplotlib.pyplot as plt"
   ]
  },
  {
   "cell_type": "code",
   "execution_count": 2,
   "metadata": {},
   "outputs": [],
   "source": [
    "fuelConsumption = pd.read_csv('FuelConsumption.csv')"
   ]
  },
  {
   "cell_type": "markdown",
   "metadata": {},
   "source": [
    "### Q1: Select the features 'ENGINESIZE. 'CYLINDERS'. 'FUELCONSUMPTION_COMB', 'CO2EMISSIONS' to use for building the model. Plot Emission values with respect to Engine size."
   ]
  },
  {
   "cell_type": "code",
   "execution_count": 3,
   "metadata": {},
   "outputs": [],
   "source": [
    "df = fuelConsumption[['ENGINESIZE',\n",
    "'CYLINDERS',\n",
    "'FUELCONSUMPTION_COMB', 'CO2EMISSIONS']]"
   ]
  },
  {
   "cell_type": "code",
   "execution_count": 4,
   "metadata": {},
   "outputs": [
    {
     "data": {
      "text/html": [
       "<div>\n",
       "<style scoped>\n",
       "    .dataframe tbody tr th:only-of-type {\n",
       "        vertical-align: middle;\n",
       "    }\n",
       "\n",
       "    .dataframe tbody tr th {\n",
       "        vertical-align: top;\n",
       "    }\n",
       "\n",
       "    .dataframe thead th {\n",
       "        text-align: right;\n",
       "    }\n",
       "</style>\n",
       "<table border=\"1\" class=\"dataframe\">\n",
       "  <thead>\n",
       "    <tr style=\"text-align: right;\">\n",
       "      <th></th>\n",
       "      <th>ENGINESIZE</th>\n",
       "      <th>CYLINDERS</th>\n",
       "      <th>FUELCONSUMPTION_COMB</th>\n",
       "      <th>CO2EMISSIONS</th>\n",
       "    </tr>\n",
       "  </thead>\n",
       "  <tbody>\n",
       "    <tr>\n",
       "      <th>0</th>\n",
       "      <td>2.0</td>\n",
       "      <td>4</td>\n",
       "      <td>8.5</td>\n",
       "      <td>196</td>\n",
       "    </tr>\n",
       "    <tr>\n",
       "      <th>1</th>\n",
       "      <td>2.4</td>\n",
       "      <td>4</td>\n",
       "      <td>9.6</td>\n",
       "      <td>221</td>\n",
       "    </tr>\n",
       "    <tr>\n",
       "      <th>2</th>\n",
       "      <td>1.5</td>\n",
       "      <td>4</td>\n",
       "      <td>5.9</td>\n",
       "      <td>136</td>\n",
       "    </tr>\n",
       "    <tr>\n",
       "      <th>3</th>\n",
       "      <td>3.5</td>\n",
       "      <td>6</td>\n",
       "      <td>11.1</td>\n",
       "      <td>255</td>\n",
       "    </tr>\n",
       "    <tr>\n",
       "      <th>4</th>\n",
       "      <td>3.5</td>\n",
       "      <td>6</td>\n",
       "      <td>10.6</td>\n",
       "      <td>244</td>\n",
       "    </tr>\n",
       "  </tbody>\n",
       "</table>\n",
       "</div>"
      ],
      "text/plain": [
       "   ENGINESIZE  CYLINDERS  FUELCONSUMPTION_COMB  CO2EMISSIONS\n",
       "0         2.0          4                   8.5           196\n",
       "1         2.4          4                   9.6           221\n",
       "2         1.5          4                   5.9           136\n",
       "3         3.5          6                  11.1           255\n",
       "4         3.5          6                  10.6           244"
      ]
     },
     "execution_count": 4,
     "metadata": {},
     "output_type": "execute_result"
    }
   ],
   "source": [
    "df.head()"
   ]
  },
  {
   "cell_type": "code",
   "execution_count": 5,
   "metadata": {},
   "outputs": [
    {
     "data": {
      "text/plain": [
       "<matplotlib.axes._subplots.AxesSubplot at 0x7fe0493bbdf0>"
      ]
     },
     "execution_count": 5,
     "metadata": {},
     "output_type": "execute_result"
    },
    {
     "data": {
      "image/png": "[encoded data removed]",
      "text/plain": [
       "<Figure size 432x288 with 1 Axes>"
      ]
     },
     "metadata": {
      "needs_background": "light"
     },
     "output_type": "display_data"
    }
   ],
   "source": [
    "sns.scatterplot(x = 'ENGINESIZE',\n",
    "            y = 'CO2EMISSIONS',\n",
    "            data = df)"
   ]
  },
  {
   "cell_type": "markdown",
   "metadata": {},
   "source": [
    "### Q2: Split the data into training and test sets (70:30) to create a model using training set, evaluate the model using test set, and use model to predict unknown value."
   ]
  },
  {
   "cell_type": "code",
   "execution_count": 6,
   "metadata": {},
   "outputs": [],
   "source": [
    "from sklearn.linear_model import LinearRegression\n",
    "from sklearn.model_selection import train_test_split\n",
    "\n",
    "model = LinearRegression()\n",
    "\n",
    "X = df[['ENGINESIZE',\n",
    "'CYLINDERS',\n",
    "'FUELCONSUMPTION_COMB']]\n",
    "y = df['CO2EMISSIONS']\n",
    "\n",
    "x_train, x_test, y_train, y_test = train_test_split(X,y,test_size=0.3,random_state=100)\n",
    "\n",
    "model.fit(x_train,y_train)\n",
    "\n",
    "pred_test = model.predict(x_test)"
   ]
  },
  {
   "cell_type": "code",
   "execution_count": 7,
   "metadata": {},
   "outputs": [
    {
     "name": "stdout",
     "output_type": "stream",
     "text": [
      "R2 score for testing examples is: 0.8605707371421957\n"
     ]
    }
   ],
   "source": [
    "from sklearn import metrics\n",
    "r2_test = metrics.r2_score(y_test,pred_test)\n",
    "print(f\"R2 score for testing examples is: {r2_test}\")"
   ]
  },
  {
   "cell_type": "markdown",
   "metadata": {},
   "source": [
    "### Q3: Try to use a polynomial regression with the dataset of degree 2, 3, 4, 5 and verify the accuracy by calculating Mean absolute error, Residual sum of squares, R2. score."
   ]
  },
  {
   "cell_type": "code",
   "execution_count": 8,
   "metadata": {},
   "outputs": [],
   "source": [
    "from sklearn.preprocessing import PolynomialFeatures\n",
    "from sklearn.metrics import mean_absolute_error\n",
    "poly = PolynomialFeatures(degree=2, include_bias=False)\n",
    "poly_features = poly.fit_transform(X)\n",
    "X1_train, X1_test, y1_train, y1_test = train_test_split(poly_features, y, test_size=0.3, random_state=100)"
   ]
  },
  {
   "cell_type": "code",
   "execution_count": 9,
   "metadata": {},
   "outputs": [
    {
     "data": {
      "text/plain": [
       "LinearRegression()"
      ]
     },
     "execution_count": 9,
     "metadata": {},
     "output_type": "execute_result"
    }
   ],
   "source": [
    "poly_reg_model = LinearRegression()\n",
    "poly_reg_model.fit(X1_train, y1_train)"
   ]
  },
  {
   "cell_type": "markdown",
   "metadata": {},
   "source": [
    "### Degree 2"
   ]
  },
  {
   "cell_type": "code",
   "execution_count": 10,
   "metadata": {},
   "outputs": [
    {
     "name": "stdout",
     "output_type": "stream",
     "text": [
      "Mean absoloute error  10.902592826829748\n",
      "R2 value:  0.8935388230191204\n",
      "Residual sum of squares is : 126042.34711471453\n"
     ]
    }
   ],
   "source": [
    "poly_reg_y_predicted = poly_reg_model.predict(X1_test)\n",
    "from sklearn import metrics\n",
    "r2_test = metrics.r2_score(y1_test, poly_reg_y_predicted)\n",
    "print('Mean absoloute error ', mean_absolute_error(y1_test, poly_reg_y_predicted))\n",
    "print('R2 value: ', r2_test)\n",
    "print('Residual sum of squares is : '+ str(np.sum(np.square(poly_reg_y_predicted - y1_test))))"
   ]
  },
  {
   "cell_type": "markdown",
   "metadata": {},
   "source": [
    "### Degree 3"
   ]
  },
  {
   "cell_type": "code",
   "execution_count": 11,
   "metadata": {},
   "outputs": [
    {
     "name": "stdout",
     "output_type": "stream",
     "text": [
      "Mean absoloute error  11.093146946584316\n",
      "R2 value:  0.9138886477483165\n",
      "Residual sum of squares is : 101949.62388001267\n"
     ]
    }
   ],
   "source": [
    "from sklearn.preprocessing import PolynomialFeatures\n",
    "poly = PolynomialFeatures(degree=3, include_bias=False)\n",
    "poly_features = poly.fit_transform(X)\n",
    "X1_train, X1_test, y1_train, y1_test = train_test_split(poly_features, y, test_size=0.3, random_state=100)\n",
    "poly_reg_model = LinearRegression()\n",
    "poly_reg_model.fit(X1_train, y1_train)\n",
    "poly_reg_y_predicted = poly_reg_model.predict(X1_test)\n",
    "from sklearn import metrics\n",
    "r2_test = metrics.r2_score(y1_test, poly_reg_y_predicted)\n",
    "print('Mean absoloute error ', mean_absolute_error(y1_test, poly_reg_y_predicted))\n",
    "print('R2 value: ', r2_test)\n",
    "print('Residual sum of squares is : '+ str(np.sum(np.square(poly_reg_y_predicted - y1_test))))"
   ]
  },
  {
   "cell_type": "markdown",
   "metadata": {},
   "source": [
    "### Degree 4"
   ]
  },
  {
   "cell_type": "code",
   "execution_count": 12,
   "metadata": {},
   "outputs": [
    {
     "name": "stdout",
     "output_type": "stream",
     "text": [
      "Mean absoloute error  9.089808952609827\n",
      "R2 value:  0.9248228987832893\n",
      "Residual sum of squares is : 89004.26010071699\n"
     ]
    }
   ],
   "source": [
    "from sklearn.preprocessing import PolynomialFeatures\n",
    "poly = PolynomialFeatures(degree=4, include_bias=False)\n",
    "poly_features = poly.fit_transform(X)\n",
    "X1_train, X1_test, y1_train, y1_test = train_test_split(poly_features, y, test_size=0.3, random_state=100)\n",
    "poly_reg_model = LinearRegression()\n",
    "poly_reg_model.fit(X1_train, y1_train)\n",
    "poly_reg_y_predicted = poly_reg_model.predict(X1_test)\n",
    "from sklearn import metrics\n",
    "r2_test = metrics.r2_score(y1_test, poly_reg_y_predicted)\n",
    "print('Mean absoloute error ', mean_absolute_error(y1_test, poly_reg_y_predicted))\n",
    "print('R2 value: ', r2_test)\n",
    "print('Residual sum of squares is : '+ str(np.sum(np.square(poly_reg_y_predicted - y1_test))))"
   ]
  },
  {
   "cell_type": "markdown",
   "metadata": {},
   "source": [
    "### Degree 5"
   ]
  },
  {
   "cell_type": "code",
   "execution_count": 13,
   "metadata": {},
   "outputs": [
    {
     "name": "stdout",
     "output_type": "stream",
     "text": [
      "Mean absoloute error  9.494532071117451\n",
      "R2 value:  0.8634308518726282\n",
      "Residual sum of squares is : 161688.0111754032\n"
     ]
    }
   ],
   "source": [
    "from sklearn.preprocessing import PolynomialFeatures\n",
    "poly = PolynomialFeatures(degree=5, include_bias=False)\n",
    "poly_features = poly.fit_transform(X)\n",
    "X1_train, X1_test, y1_train, y1_test = train_test_split(poly_features, y, test_size=0.3, random_state=100)\n",
    "poly_reg_model = LinearRegression()\n",
    "poly_reg_model.fit(X1_train, y1_train)\n",
    "poly_reg_y_predicted = poly_reg_model.predict(X1_test)\n",
    "from sklearn import metrics\n",
    "r2_test = metrics.r2_score(y1_test, poly_reg_y_predicted)\n",
    "print('Mean absoloute error ', mean_absolute_error(y1_test, poly_reg_y_predicted))\n",
    "print('R2 value: ', r2_test)\n",
    "print('Residual sum of squares is : '+ str(np.sum(np.square(poly_reg_y_predicted - y1_test))))"
   ]
  },
  {
   "cell_type": "markdown",
   "metadata": {},
   "source": [
    "Degree 4 has the best result out of all the degrees that we have chosen\n",
    "It has the largest R2 value, and smallest mean absoloute error and residual sum of squares. \n",
    "Also, it is significantly better than a simple linear regression model. \n",
    "\n",
    "Degree 5 overfits the data hence has such a poor performance"
   ]
  },
  {
   "cell_type": "code",
   "execution_count": null,
   "metadata": {},
   "outputs": [],
   "source": []
  }
 ],
 "metadata": {
  "kernelspec": {
   "display_name": "Python 3",
   "language": "python",
   "name": "python3"
  },
  "language_info": {
   "codemirror_mode": {
    "name": "ipython",
    "version": 3
   },
   "file_extension": ".py",
   "mimetype": "text/x-python",
   "name": "python",
   "nbconvert_exporter": "python",
   "pygments_lexer": "ipython3",
   "version": "3.8.3"
  }
 },
 "nbformat": 4,
 "nbformat_minor": 4
}
